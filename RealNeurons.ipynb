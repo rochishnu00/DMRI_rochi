{
  "nbformat": 4,
  "nbformat_minor": 0,
  "metadata": {
    "colab": {
      "name": "RealNeurons.ipynb",
      "version": "0.3.2",
      "provenance": [],
      "collapsed_sections": [
        "vS_YdSbqFOln",
        "9SJXe6I5JUwF",
        "6l4kvMZQb3z6",
        "r6GW2fwLE042"
      ],
      "toc_visible": true,
      "include_colab_link": true
    },
    "kernelspec": {
      "name": "python3",
      "display_name": "Python 3"
    },
    "accelerator": "GPU"
  },
  "cells": [
    {
      "cell_type": "markdown",
      "metadata": {
        "id": "view-in-github",
        "colab_type": "text"
      },
      "source": [
        "<a href=\"https://colab.research.google.com/github/van-dang/DMRI-FEM-Cloud/blob/master/RealNeurons.ipynb\" target=\"_parent\"><img src=\"https://colab.research.google.com/assets/colab-badge.svg\" alt=\"Open In Colab\"/></a>"
      ]
    },
    {
      "cell_type": "markdown",
      "metadata": {
        "id": "vS_YdSbqFOln",
        "colab_type": "text"
      },
      "source": [
        "# About the code"
      ]
    },
    {
      "cell_type": "code",
      "metadata": {
        "id": "CiQ9r51xKgWh",
        "colab_type": "code",
        "colab": {}
      },
      "source": [
        "# This program solves the Bloch-Torrey equation applied to computational diffusion MRI using \n",
        "# the finite element method coupled with the theta-method for the spatial discretization.\n",
        "\n",
        "# The scope of usage: \n",
        "# (1) Single domains, Multilayered structures, manifolds\n",
        "# (2) Membrane permeability for internal interfaces\n",
        "#     Artificial permeability at the external interfaces\n",
        "# (3) pure homogeneous Neumann BCs, (4) pseudo-periodic BCs\n",
        "\n",
        "# Copyright (C) 2019 Van-Dang Nguyen (vdnguyen@kth.se)\n",
        "\n",
        "# This file is part of DOLFIN.\n",
        "\n",
        "# DOLFIN is free software: you can redistribute it and/or modify\n",
        "# it under the terms of the GNU Lesser General Public License as published by\n",
        "# the Free Software Foundation, either version 3 of the License, or\n",
        "# (at your option) any later version.\n",
        "\n",
        "# DOLFIN is distributed in the hope that it will be useful,\n",
        "# but WITHOUT ANY WARRANTY; without even the implied warranty of\n",
        "# MERCHANTABILITY or FITNESS FOR A PARTICULAR PURPOSE. See the\n",
        "# GNU Lesser General Public License for more details.\n",
        "\n",
        "# You should have received a copy of the GNU Lesser General Public License\n",
        "# along with DOLFIN. If not, see <http://www.gnu.org/licenses/>.\n",
        "\n",
        "# First added:  2017-10-10\n",
        "# Last changed: 2019-04-25\n",
        "\n",
        "# This demo is maintained by Van-Dang Nguyen\n",
        "# Please report possible problems to vdnguyen@kth.se"
      ],
      "execution_count": 0,
      "outputs": []
    },
    {
      "cell_type": "markdown",
      "metadata": {
        "id": "9SJXe6I5JUwF",
        "colab_type": "text"
      },
      "source": [
        "# Setting a working environment with FEniCS"
      ]
    },
    {
      "cell_type": "code",
      "metadata": {
        "id": "4jWzVxURFVLj",
        "colab_type": "code",
        "outputId": "630d3bf2-ffd4-475e-99a9-55364db4cc53",
        "colab": {
          "base_uri": "https://localhost:8080/",
          "height": 51
        }
      },
      "source": [
        "try:\n",
        "    from google.colab import files\n",
        "except:\n",
        "    print(\"Running on a local runtime\")\n",
        "    \n",
        "import platform, sys\n",
        "python_version=platform.python_version()\n",
        "from distutils.version import LooseVersion, StrictVersion\n",
        "\n",
        "if ( LooseVersion(python_version) < LooseVersion(\"3.0.0\")):\n",
        "    print(\"Python3 is needed!\");\n",
        "    print(\"How to fix: Runtime/Change_runtime_type/Python 3\");\n",
        "    sys.exit()\n",
        "    \n",
        "try:\n",
        "    from dolfin import *; from mshr import *\n",
        "except ImportError as e:\n",
        "    !apt-get install -y -qq software-properties-common python-software-properties module-init-tools\n",
        "    !add-apt-repository -y ppa:fenics-packages/fenics\n",
        "    !apt-get update -qq\n",
        "    !apt install -y --no-install-recommends fenics\n",
        "    from dolfin import *; from mshr import *\n",
        "\n",
        "gmsh_dir=!which gmsh\n",
        "if len(gmsh_dir)==0:\n",
        "  !apt-get install gmsh\n",
        "    \n",
        "import matplotlib.pyplot as plt;\n",
        "from IPython.display import clear_output, display; import time; import dolfin.common.plotting as fenicsplot \n",
        "import time\n",
        "\n",
        "import os, sys, shutil\n",
        "\n",
        "import sympy as sp\n",
        "\n",
        "\n",
        "clear_output()\n",
        "\n",
        "dolfin_version = dolfin.__version__\n",
        "print ('dolfin version:', dolfin_version)\n",
        "\n",
        "# Disable warnings\n",
        "import logging\n",
        "logging.basicConfig(level=logging.DEBUG)\n",
        "logger = logging.getLogger(\"rothemain.rothe_utils\")\n",
        "logging.getLogger('UFL').setLevel(logging.WARNING)\n",
        "logging.getLogger('FFC').setLevel(logging.WARNING)\n",
        "\n",
        "import warnings\n",
        "warnings.filterwarnings(\"ignore\")\n"
      ],
      "execution_count": 4,
      "outputs": [
        {
          "output_type": "stream",
          "text": [
            "DEBUG:matplotlib.pyplot:Loaded backend module://ipykernel.pylab.backend_inline version unknown.\n"
          ],
          "name": "stderr"
        },
        {
          "output_type": "stream",
          "text": [
            "dolfin version: 2019.1.0\n"
          ],
          "name": "stdout"
        }
      ]
    },
    {
      "cell_type": "markdown",
      "metadata": {
        "id": "6l4kvMZQb3z6",
        "colab_type": "text"
      },
      "source": [
        "#Load pre-defined functions"
      ]
    },
    {
      "cell_type": "code",
      "metadata": {
        "id": "x3L26nGPb7kZ",
        "colab_type": "code",
        "outputId": "5350004a-824e-4da7-8015-02aaea14d641",
        "colab": {
          "base_uri": "https://localhost:8080/",
          "height": 34
        }
      },
      "source": [
        "import sympy as sp  \n",
        "exists = os.path.isfile('DmriFemLib.py')\n",
        "isupdate = False\n",
        "if (exists==False or isupdate==True):\n",
        "    if isupdate==True:\n",
        "        !rm DmriFemLib.py\n",
        "    print(\"Load pre-defined functions from GitHub\")\n",
        "    !wget --quiet https://raw.githubusercontent.com/van-dang/DMRI-FEM-Cloud/master/DmriFemLib.py\n",
        "from DmriFemLib import *"
      ],
      "execution_count": 5,
      "outputs": [
        {
          "output_type": "stream",
          "text": [
            "Load pre-defined functions from GitHub\n"
          ],
          "name": "stdout"
        }
      ]
    },
    {
      "cell_type": "markdown",
      "metadata": {
        "id": "r6GW2fwLE042",
        "colab_type": "text"
      },
      "source": [
        "# Working on the mesh"
      ]
    },
    {
      "cell_type": "code",
      "metadata": {
        "id": "ksCOgH6e6d8e",
        "colab_type": "code",
        "outputId": "fc276c32-52b3-444f-a765-e9b7130e60a7",
        "colab": {
          "base_uri": "https://localhost:8080/",
          "height": 187
        }
      },
      "source": [
        "geo_choice = 2\n",
        "\n",
        "if geo_choice == 1:\n",
        "      mesh_file = \"fru_M_100383_1D.xml\"\n",
        "      mesh_file_exists = os.path.isfile('fru_M_100383_1D.xml')\n",
        "      if (mesh_file_exists==False):\n",
        "          !wget https://raw.githubusercontent.com/van-dang/DMRI-FEM-Cloud/mesh/$mesh_file''.zip\n",
        "          !unzip -q $mesh_file''.zip\n",
        "      mymesh = Mesh(mesh_file);\n",
        "\n",
        "if geo_choice == 2:\n",
        "      spindle_list=['03a_spindle2aFI','03a_spindle6aFI','03b_spindle4aACC','03b_spindle5aACC',\n",
        "                    '03b_spindle6aACC','03b_spindle7aACC','04b_spindle3aFI','05b_spindle5aFI',\n",
        "                    '06b_spindle8aACC','07b_spindle9aACC','08a_spindle13aACC','09o_spindle7aFI',\n",
        "                    '09o_spindle8aFI','10a_spindle18aACC','12a_spindle19aACC','12o_spindle9aFI',\n",
        "                    '13o_spindle10aFI','15o_spindle12aFI','16o_spindle13aFI','19o_spindle14aFI',\n",
        "                    '21o_spindle15aFI','23o_spindle16aFI','25o_spindle17aFI','26o_spindle18aFI',\n",
        "                    '27o_spindle19aFI','28o_spindle20aFI','28o_spindle21aFI','29o_spindle22aFI',\n",
        "                    '30o_spindle23aFI',\n",
        "      ];\n",
        "\n",
        "      pyramidal_list=['02a_pyramidal2aFI','02b_pyramidal1aACC','02b_pyramidal1aFI','03a_pyramidal9aFI',\n",
        "                      '03b_pyramidal2aACC','03b_pyramidal3aACC','03b_pyramidal3aFI','03b_pyramidal4aFI',\n",
        "                      '03b_pyramidal9aFI','04a_pyramidal4aACC','04a_pyramidal5aACC','04b_pyramidal5aFI',\n",
        "                      '04b_pyramidal6aACC','04b_pyramidal6aFI','04b_pyramidal7aACC','05a_pyramidal10aACC',\n",
        "                      '05a_pyramidal8aACC','05b_pyramidal7aFI','05b_pyramidal8aFI','05b_pyramidal9aACC',\n",
        "                      '06a_pyramidal11aACC','06b_pyramidal10aFI','06b_pyramidal12aACC','07a_pyramidal13aACC',\n",
        "                      '07b_pyramidal14aACC','08o_pyramidal11aFI','10a_pyramidal15aACC','11a_pyramidal16aACC',\n",
        "                      '11o_pyramidal12aFI','17o_pyramidal13aFI','18o_pyramidal14aFI','20o_pyramidal15aFI',\n",
        "                      '22o_pyramidal16aFI','24o_pyramidal17aFI','25o_pyramidal18aFI','31o_pyramidal19aFI',\n",
        "      ];\n",
        "\n",
        "      neuron_id = 22;\n",
        "      neuron_type = 'spindles';\n",
        "\n",
        "      if neuron_type == 'spindles':\n",
        "          neuron_list = spindle_list;\n",
        "      if neuron_type == 'pyramidals':\n",
        "          neuron_list = pyramidal_list;\n",
        "\n",
        "      neuron_name = neuron_list[neuron_id];\n",
        "      print(neuron_name)\n",
        "      \n",
        "      \n",
        "      neuron_dir='https://github.com/van-dang/RealNeuronMeshes/raw/master/volume_meshes/'+neuron_type+'/'+neuron_name+'.msh.zip'\n",
        "\n",
        "      mesh_file_exists = os.path.isfile(neuron_name+'.xml')\n",
        "\n",
        "      if (mesh_file_exists == False):\n",
        "          !wget -q $neuron_dir\n",
        "          !unzip -q $neuron_name''.msh.zip\n",
        "          !dolfin-convert $neuron_name''.msh $neuron_name''.xml\n",
        "          !sed -i 's/dim=\"2\"/dim=\"3\"/g' $neuron_name''.xml\n",
        "      mymesh = Mesh(neuron_name+'.xml');\n",
        "      \n",
        "gdim = mymesh.geometry().dim()\n",
        "tdim = mymesh.topology().dim()\n",
        "\n",
        "print('Topological dimension: ',tdim)\n",
        "print('Geometrical dimension: ',gdim)\n",
        "print('Mesh size: #vertices: '+str(mymesh.num_vertices()) +', #elements: '+str(mymesh.num_cells()) );"
      ],
      "execution_count": 6,
      "outputs": [
        {
          "output_type": "stream",
          "text": [
            "25o_spindle17aFI\n",
            "Converting from Gmsh format (.msh, .gmsh) to DOLFIN XML format\n",
            "Expecting 51792 vertices\n",
            "Found all vertices\n",
            "Expecting 172433 cells\n",
            "Found all cells\n",
            "Conversion done\n",
            "Topological dimension:  3\n",
            "Geometrical dimension:  3\n",
            "Mesh size: #vertices: 51792, #elements: 172433\n"
          ],
          "name": "stdout"
        }
      ]
    },
    {
      "cell_type": "markdown",
      "metadata": {
        "id": "aFEvif9PF2yH",
        "colab_type": "text"
      },
      "source": [
        "# Solve the Bloch-Torrey equation"
      ]
    },
    {
      "cell_type": "code",
      "metadata": {
        "id": "DYZ5SWlw69tQ",
        "colab_type": "code",
        "outputId": "14ff6830-94cd-4b8f-a8f2-adcde2f4eacb",
        "colab": {
          "base_uri": "https://localhost:8080/",
          "height": 1000
        }
      },
      "source": [
        "mri_simu = MRI_simulation()\n",
        "mri_para = MRI_parameters()\n",
        "\n",
        "#################################################################################\n",
        "#########################  Pre-defined parameters ###############################\n",
        "mri_para.stype='PGSE'                                # sequence type\n",
        "mri_para.bvalue = 1000;                              # bvalue\n",
        "mri_para.delta, mri_para.Delta = 10600, 43100        # time sequence\n",
        "mri_para.set_gradient_dir(mymesh, 1, 1, 0)           # gradient direction\n",
        "\n",
        "mri_para.T = mri_para.Delta+mri_para.delta\n",
        "mri_para.fs_sym = sp.Piecewise(\n",
        "                (  1., mri_para.s < mri_para.delta ),\n",
        "                (  0., mri_para.s < mri_para.Delta ),\n",
        "                ( -1., mri_para.s < mri_para.T ),\n",
        "                (  0., True )  \n",
        "            ) \n",
        "\n",
        "\n",
        "mri_para.Apply()\n",
        "mri_simu.k = 50;                                    # time-step size\n",
        "mri_simu.nskip = 1;                                  # frequency to print ouputs\n",
        "mydomain = MyDomain(mymesh, mri_para)\n",
        "mydomain.phase = None\n",
        "mydomain.PeriodicDir = [0, 0, 0];             # Direction of the periodicity\n",
        "mydomain.IsDomainPeriodic = False             # Confirm if the mesh if periodic\n",
        "mydomain.IsDomainMultiple = False             # Confirm if the mesh is multiple\n",
        "################################################################################\n",
        "mydomain.Apply()   # Call Apply before setting the diffusion tensor\n",
        "################################################################################\n",
        "# Impose the diffusion coefficient\n",
        "mydomain.D = 2e-3;\n",
        "#################################################################################\n",
        "\n",
        "parameters[\"krylov_solver\"][\"nonzero_initial_guess\"] = True\n",
        "# linsolver = PETScLUSolver(\"mumps\")\n",
        "# linsolver = KrylovSolver(\"bicgstab\",\"petsc_amg\")\n",
        "linsolver = KrylovSolver(\"gmres\")\n",
        "linsolver.parameters[\"relative_tolerance\"] = 1E-4\n",
        "linsolver.parameters[\"absolute_tolerance\"] = 1E-6\n",
        "\n",
        "mri_simu.solve(mydomain, mri_para, linsolver)\n",
        "\n",
        "PostProcessing(mydomain, mri_para, mri_simu, plt)\n",
        "\n",
        "# 4.755359e-01"
      ],
      "execution_count": 0,
      "outputs": [
        {
          "output_type": "stream",
          "text": [
            "Domain size: xmin=-76.036100, ymin=-166.288000, zmin=-75.771600, xmax=212.976000, ymax=235.573000, zmax=42.355000\n",
            "Function Space for Single Domains has 2 components\n",
            "(ur, ui): r-real, i-imaginary\n",
            "Initialize a standard function space.\n",
            "t:   0.00  T: 53700.00 dt: 50.0 qvalue: 1.499786e-05 Completed 0.00%\n",
            "t:  50.00  T: 53700.00 dt: 50.0 qvalue: 1.499786e-05 Completed 0.09%\n",
            "t: 100.00  T: 53700.00 dt: 50.0 qvalue: 1.499786e-05 Completed 0.19%\n",
            "t: 150.00  T: 53700.00 dt: 50.0 qvalue: 1.499786e-05 Completed 0.28%\n",
            "t: 200.00  T: 53700.00 dt: 50.0 qvalue: 1.499786e-05 Completed 0.37%\n",
            "t: 250.00  T: 53700.00 dt: 50.0 qvalue: 1.499786e-05 Completed 0.47%\n",
            "t: 300.00  T: 53700.00 dt: 50.0 qvalue: 1.499786e-05 Completed 0.56%\n",
            "t: 350.00  T: 53700.00 dt: 50.0 qvalue: 1.499786e-05 Completed 0.65%\n",
            "t: 400.00  T: 53700.00 dt: 50.0 qvalue: 1.499786e-05 Completed 0.74%\n",
            "t: 450.00  T: 53700.00 dt: 50.0 qvalue: 1.499786e-05 Completed 0.84%\n",
            "t: 500.00  T: 53700.00 dt: 50.0 qvalue: 1.499786e-05 Completed 0.93%\n",
            "t: 550.00  T: 53700.00 dt: 50.0 qvalue: 1.499786e-05 Completed 1.02%\n",
            "t: 600.00  T: 53700.00 dt: 50.0 qvalue: 1.499786e-05 Completed 1.12%\n",
            "t: 650.00  T: 53700.00 dt: 50.0 qvalue: 1.499786e-05 Completed 1.21%\n",
            "t: 700.00  T: 53700.00 dt: 50.0 qvalue: 1.499786e-05 Completed 1.30%\n",
            "t: 750.00  T: 53700.00 dt: 50.0 qvalue: 1.499786e-05 Completed 1.40%\n",
            "t: 800.00  T: 53700.00 dt: 50.0 qvalue: 1.499786e-05 Completed 1.49%\n",
            "t: 850.00  T: 53700.00 dt: 50.0 qvalue: 1.499786e-05 Completed 1.58%\n",
            "t: 900.00  T: 53700.00 dt: 50.0 qvalue: 1.499786e-05 Completed 1.67%\n",
            "t: 950.00  T: 53700.00 dt: 50.0 qvalue: 1.499786e-05 Completed 1.77%\n",
            "t: 1000.00  T: 53700.00 dt: 50.0 qvalue: 1.499786e-05 Completed 1.86%\n",
            "t: 1050.00  T: 53700.00 dt: 50.0 qvalue: 1.499786e-05 Completed 1.95%\n",
            "t: 1100.00  T: 53700.00 dt: 50.0 qvalue: 1.499786e-05 Completed 2.05%\n",
            "t: 1150.00  T: 53700.00 dt: 50.0 qvalue: 1.499786e-05 Completed 2.14%\n",
            "t: 1200.00  T: 53700.00 dt: 50.0 qvalue: 1.499786e-05 Completed 2.23%\n",
            "t: 1250.00  T: 53700.00 dt: 50.0 qvalue: 1.499786e-05 Completed 2.33%\n",
            "t: 1300.00  T: 53700.00 dt: 50.0 qvalue: 1.499786e-05 Completed 2.42%\n",
            "t: 1350.00  T: 53700.00 dt: 50.0 qvalue: 1.499786e-05 Completed 2.51%\n",
            "t: 1400.00  T: 53700.00 dt: 50.0 qvalue: 1.499786e-05 Completed 2.60%\n",
            "t: 1450.00  T: 53700.00 dt: 50.0 qvalue: 1.499786e-05 Completed 2.70%\n",
            "t: 1500.00  T: 53700.00 dt: 50.0 qvalue: 1.499786e-05 Completed 2.79%\n",
            "t: 1550.00  T: 53700.00 dt: 50.0 qvalue: 1.499786e-05 Completed 2.88%\n",
            "t: 1600.00  T: 53700.00 dt: 50.0 qvalue: 1.499786e-05 Completed 2.98%\n",
            "t: 1650.00  T: 53700.00 dt: 50.0 qvalue: 1.499786e-05 Completed 3.07%\n",
            "t: 1700.00  T: 53700.00 dt: 50.0 qvalue: 1.499786e-05 Completed 3.16%\n",
            "t: 1750.00  T: 53700.00 dt: 50.0 qvalue: 1.499786e-05 Completed 3.26%\n",
            "t: 1800.00  T: 53700.00 dt: 50.0 qvalue: 1.499786e-05 Completed 3.35%\n",
            "t: 1850.00  T: 53700.00 dt: 50.0 qvalue: 1.499786e-05 Completed 3.44%\n",
            "t: 1900.00  T: 53700.00 dt: 50.0 qvalue: 1.499786e-05 Completed 3.53%\n",
            "t: 1950.00  T: 53700.00 dt: 50.0 qvalue: 1.499786e-05 Completed 3.63%\n",
            "t: 2000.00  T: 53700.00 dt: 50.0 qvalue: 1.499786e-05 Completed 3.72%\n",
            "t: 2050.00  T: 53700.00 dt: 50.0 qvalue: 1.499786e-05 Completed 3.81%\n",
            "t: 2100.00  T: 53700.00 dt: 50.0 qvalue: 1.499786e-05 Completed 3.91%\n",
            "t: 2150.00  T: 53700.00 dt: 50.0 qvalue: 1.499786e-05 Completed 4.00%\n",
            "t: 2200.00  T: 53700.00 dt: 50.0 qvalue: 1.499786e-05 Completed 4.09%\n",
            "t: 2250.00  T: 53700.00 dt: 50.0 qvalue: 1.499786e-05 Completed 4.19%\n",
            "t: 2300.00  T: 53700.00 dt: 50.0 qvalue: 1.499786e-05 Completed 4.28%\n",
            "t: 2350.00  T: 53700.00 dt: 50.0 qvalue: 1.499786e-05 Completed 4.37%\n",
            "t: 2400.00  T: 53700.00 dt: 50.0 qvalue: 1.499786e-05 Completed 4.47%\n",
            "t: 2450.00  T: 53700.00 dt: 50.0 qvalue: 1.499786e-05 Completed 4.56%\n",
            "t: 2500.00  T: 53700.00 dt: 50.0 qvalue: 1.499786e-05 Completed 4.65%\n",
            "t: 2550.00  T: 53700.00 dt: 50.0 qvalue: 1.499786e-05 Completed 4.74%\n",
            "t: 2600.00  T: 53700.00 dt: 50.0 qvalue: 1.499786e-05 Completed 4.84%\n",
            "t: 2650.00  T: 53700.00 dt: 50.0 qvalue: 1.499786e-05 Completed 4.93%\n",
            "t: 2700.00  T: 53700.00 dt: 50.0 qvalue: 1.499786e-05 Completed 5.02%\n",
            "t: 2750.00  T: 53700.00 dt: 50.0 qvalue: 1.499786e-05 Completed 5.12%\n",
            "t: 2800.00  T: 53700.00 dt: 50.0 qvalue: 1.499786e-05 Completed 5.21%\n",
            "t: 2850.00  T: 53700.00 dt: 50.0 qvalue: 1.499786e-05 Completed 5.30%\n",
            "t: 2900.00  T: 53700.00 dt: 50.0 qvalue: 1.499786e-05 Completed 5.40%\n",
            "t: 2950.00  T: 53700.00 dt: 50.0 qvalue: 1.499786e-05 Completed 5.49%\n",
            "t: 3000.00  T: 53700.00 dt: 50.0 qvalue: 1.499786e-05 Completed 5.58%\n",
            "t: 3050.00  T: 53700.00 dt: 50.0 qvalue: 1.499786e-05 Completed 5.67%\n",
            "t: 3100.00  T: 53700.00 dt: 50.0 qvalue: 1.499786e-05 Completed 5.77%\n",
            "t: 3150.00  T: 53700.00 dt: 50.0 qvalue: 1.499786e-05 Completed 5.86%\n",
            "t: 3200.00  T: 53700.00 dt: 50.0 qvalue: 1.499786e-05 Completed 5.95%\n",
            "t: 3250.00  T: 53700.00 dt: 50.0 qvalue: 1.499786e-05 Completed 6.05%\n",
            "t: 3300.00  T: 53700.00 dt: 50.0 qvalue: 1.499786e-05 Completed 6.14%\n",
            "t: 3350.00  T: 53700.00 dt: 50.0 qvalue: 1.499786e-05 Completed 6.23%\n",
            "t: 3400.00  T: 53700.00 dt: 50.0 qvalue: 1.499786e-05 Completed 6.33%\n",
            "t: 3450.00  T: 53700.00 dt: 50.0 qvalue: 1.499786e-05 Completed 6.42%\n",
            "t: 3500.00  T: 53700.00 dt: 50.0 qvalue: 1.499786e-05 Completed 6.51%\n",
            "t: 3550.00  T: 53700.00 dt: 50.0 qvalue: 1.499786e-05 Completed 6.60%\n",
            "t: 3600.00  T: 53700.00 dt: 50.0 qvalue: 1.499786e-05 Completed 6.70%\n",
            "t: 3650.00  T: 53700.00 dt: 50.0 qvalue: 1.499786e-05 Completed 6.79%\n",
            "t: 3700.00  T: 53700.00 dt: 50.0 qvalue: 1.499786e-05 Completed 6.88%\n",
            "t: 3750.00  T: 53700.00 dt: 50.0 qvalue: 1.499786e-05 Completed 6.98%\n",
            "t: 3800.00  T: 53700.00 dt: 50.0 qvalue: 1.499786e-05 Completed 7.07%\n",
            "t: 3850.00  T: 53700.00 dt: 50.0 qvalue: 1.499786e-05 Completed 7.16%\n",
            "t: 3900.00  T: 53700.00 dt: 50.0 qvalue: 1.499786e-05 Completed 7.26%\n",
            "t: 3950.00  T: 53700.00 dt: 50.0 qvalue: 1.499786e-05 Completed 7.35%\n",
            "t: 4000.00  T: 53700.00 dt: 50.0 qvalue: 1.499786e-05 Completed 7.44%\n",
            "t: 4050.00  T: 53700.00 dt: 50.0 qvalue: 1.499786e-05 Completed 7.53%\n",
            "t: 4100.00  T: 53700.00 dt: 50.0 qvalue: 1.499786e-05 Completed 7.63%\n",
            "t: 4150.00  T: 53700.00 dt: 50.0 qvalue: 1.499786e-05 Completed 7.72%\n",
            "t: 4200.00  T: 53700.00 dt: 50.0 qvalue: 1.499786e-05 Completed 7.81%\n",
            "t: 4250.00  T: 53700.00 dt: 50.0 qvalue: 1.499786e-05 Completed 7.91%\n",
            "t: 4300.00  T: 53700.00 dt: 50.0 qvalue: 1.499786e-05 Completed 8.00%\n",
            "t: 4350.00  T: 53700.00 dt: 50.0 qvalue: 1.499786e-05 Completed 8.09%\n",
            "t: 4400.00  T: 53700.00 dt: 50.0 qvalue: 1.499786e-05 Completed 8.19%\n",
            "t: 4450.00  T: 53700.00 dt: 50.0 qvalue: 1.499786e-05 Completed 8.28%\n",
            "t: 4500.00  T: 53700.00 dt: 50.0 qvalue: 1.499786e-05 Completed 8.37%\n",
            "t: 4550.00  T: 53700.00 dt: 50.0 qvalue: 1.499786e-05 Completed 8.47%\n",
            "t: 4600.00  T: 53700.00 dt: 50.0 qvalue: 1.499786e-05 Completed 8.56%\n",
            "t: 4650.00  T: 53700.00 dt: 50.0 qvalue: 1.499786e-05 Completed 8.65%\n",
            "t: 4700.00  T: 53700.00 dt: 50.0 qvalue: 1.499786e-05 Completed 8.74%\n",
            "t: 4750.00  T: 53700.00 dt: 50.0 qvalue: 1.499786e-05 Completed 8.84%\n",
            "t: 4800.00  T: 53700.00 dt: 50.0 qvalue: 1.499786e-05 Completed 8.93%\n",
            "t: 4850.00  T: 53700.00 dt: 50.0 qvalue: 1.499786e-05 Completed 9.02%\n",
            "t: 4900.00  T: 53700.00 dt: 50.0 qvalue: 1.499786e-05 Completed 9.12%\n",
            "t: 4950.00  T: 53700.00 dt: 50.0 qvalue: 1.499786e-05 Completed 9.21%\n",
            "t: 5000.00  T: 53700.00 dt: 50.0 qvalue: 1.499786e-05 Completed 9.30%\n"
          ],
          "name": "stdout"
        }
      ]
    }
  ]
}