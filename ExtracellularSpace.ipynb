{
  "nbformat": 4,
  "nbformat_minor": 0,
  "metadata": {
    "colab": {
      "name": "ExtracellularSpace.ipynb",
      "version": "0.3.2",
      "provenance": [],
      "collapsed_sections": [
        "vS_YdSbqFOln",
        "9SJXe6I5JUwF",
        "6l4kvMZQb3z6",
        "r6GW2fwLE042"
      ],
      "toc_visible": true,
      "include_colab_link": true
    },
    "kernelspec": {
      "name": "python3",
      "display_name": "Python 3"
    },
    "accelerator": "GPU"
  },
  "cells": [
    {
      "cell_type": "markdown",
      "metadata": {
        "id": "view-in-github",
        "colab_type": "text"
      },
      "source": [
        "<a href=\"https://colab.research.google.com/github/van-dang/DMRI-FEM-Cloud/blob/master/ExtracellularSpace.ipynb\" target=\"_parent\"><img src=\"https://colab.research.google.com/assets/colab-badge.svg\" alt=\"Open In Colab\"/></a>"
      ]
    },
    {
      "cell_type": "markdown",
      "metadata": {
        "id": "vS_YdSbqFOln",
        "colab_type": "text"
      },
      "source": [
        "# About the code"
      ]
    },
    {
      "cell_type": "code",
      "metadata": {
        "id": "CiQ9r51xKgWh",
        "colab_type": "code",
        "colab": {}
      },
      "source": [
        "# This program solves the Bloch-Torrey equation applied to computational diffusion MRI using \n",
        "# the finite element method coupled with the theta-method for the spatial discretization.\n",
        "\n",
        "# The scope of usage: \n",
        "# (1) Single domains, Multilayered structures, manifolds\n",
        "# (2) Membrane permeability for internal interfaces\n",
        "#     Artificial permeability at the external interfaces\n",
        "# (3) pure homogeneous Neumann BCs, (4) pseudo-periodic BCs\n",
        "\n",
        "# Copyright (C) 2019 Van-Dang Nguyen (vdnguyen@kth.se)\n",
        "\n",
        "# This file is part of DOLFIN.\n",
        "\n",
        "# DOLFIN is free software: you can redistribute it and/or modify\n",
        "# it under the terms of the GNU Lesser General Public License as published by\n",
        "# the Free Software Foundation, either version 3 of the License, or\n",
        "# (at your option) any later version.\n",
        "\n",
        "# DOLFIN is distributed in the hope that it will be useful,\n",
        "# but WITHOUT ANY WARRANTY; without even the implied warranty of\n",
        "# MERCHANTABILITY or FITNESS FOR A PARTICULAR PURPOSE. See the\n",
        "# GNU Lesser General Public License for more details.\n",
        "\n",
        "# You should have received a copy of the GNU Lesser General Public License\n",
        "# along with DOLFIN. If not, see <http://www.gnu.org/licenses/>.\n",
        "\n",
        "# First added:  2017-10-10\n",
        "# Last changed: 2019-04-25\n",
        "\n",
        "# This demo is maintained by Van-Dang Nguyen\n",
        "# Please report possible problems to vdnguyen@kth.se"
      ],
      "execution_count": 0,
      "outputs": []
    },
    {
      "cell_type": "markdown",
      "metadata": {
        "id": "9SJXe6I5JUwF",
        "colab_type": "text"
      },
      "source": [
        "# Setting a working environment with FEniCS"
      ]
    },
    {
      "cell_type": "code",
      "metadata": {
        "id": "4jWzVxURFVLj",
        "colab_type": "code",
        "outputId": "48a169cb-c26e-44c7-965b-336f8cf91b35",
        "colab": {
          "base_uri": "https://localhost:8080/",
          "height": 34
        }
      },
      "source": [
        "try:\n",
        "    from google.colab import files\n",
        "except:\n",
        "    print(\"The program is running with local host\")\n",
        "    \n",
        "import platform, sys\n",
        "python_version=platform.python_version()\n",
        "from distutils.version import LooseVersion, StrictVersion\n",
        "\n",
        "if ( LooseVersion(python_version) < LooseVersion(\"3.0.0\")):\n",
        "    print(\"Python3 is needed!\");\n",
        "    print(\"How to fix: Runtime/Change_runtime_type/Python 3\");\n",
        "    sys.exit()\n",
        "    \n",
        "try:\n",
        "    from dolfin import *; from mshr import *\n",
        "except ImportError as e:\n",
        "    !apt-get install -y -qq software-properties-common python-software-properties module-init-tools\n",
        "    !add-apt-repository -y ppa:fenics-packages/fenics\n",
        "    !apt-get update -qq\n",
        "    !apt install -y --no-install-recommends fenics\n",
        "    from dolfin import *; from mshr import *\n",
        "\n",
        "gmsh_dir=!which gmsh\n",
        "if len(gmsh_dir)==0:\n",
        "  !apt-get install gmsh\n",
        "    \n",
        "import matplotlib.pyplot as plt;\n",
        "from IPython.display import clear_output, display; import time; import dolfin.common.plotting as fenicsplot \n",
        "import time\n",
        "\n",
        "import os, sys, shutil\n",
        "\n",
        "clear_output()\n",
        "\n",
        "dolfin_version = dolfin.__version__\n",
        "print ('dolfin version:', dolfin_version)\n",
        "\n",
        "# Disable warnings\n",
        "import logging\n",
        "logging.basicConfig(level=logging.DEBUG)\n",
        "logger = logging.getLogger(\"rothemain.rothe_utils\")\n",
        "logging.getLogger('UFL').setLevel(logging.WARNING)\n",
        "logging.getLogger('FFC').setLevel(logging.WARNING)\n",
        "\n",
        "import warnings\n",
        "warnings.filterwarnings(\"ignore\")\n"
      ],
      "execution_count": 2,
      "outputs": [
        {
          "output_type": "stream",
          "text": [
            "dolfin version: 2019.1.0\n"
          ],
          "name": "stdout"
        }
      ]
    },
    {
      "cell_type": "markdown",
      "metadata": {
        "id": "6l4kvMZQb3z6",
        "colab_type": "text"
      },
      "source": [
        "#Load pre-defined functions"
      ]
    },
    {
      "cell_type": "code",
      "metadata": {
        "id": "x3L26nGPb7kZ",
        "colab_type": "code",
        "outputId": "af620762-5d63-404f-cb91-6c022d0cbc4f",
        "colab": {
          "base_uri": "https://localhost:8080/",
          "height": 34
        }
      },
      "source": [
        "import sympy as sp  \n",
        "exists = os.path.isfile('DmriFemLib.py')\n",
        "isupdate = False\n",
        "if (exists==False or isupdate==True):\n",
        "    if isupdate==True:\n",
        "        !rm DmriFemLib.py\n",
        "    print(\"Load pre-defined functions from GitHub\")\n",
        "    !wget --quiet https://raw.githubusercontent.com/van-dang/DMRI-FEM-Cloud/master/DmriFemLib.py\n",
        "from DmriFemLib import *"
      ],
      "execution_count": 3,
      "outputs": [
        {
          "output_type": "stream",
          "text": [
            "Load pre-defined functions from GitHub\n"
          ],
          "name": "stdout"
        }
      ]
    },
    {
      "cell_type": "markdown",
      "metadata": {
        "id": "r6GW2fwLE042",
        "colab_type": "text"
      },
      "source": [
        "# Working on the mesh"
      ]
    },
    {
      "cell_type": "code",
      "metadata": {
        "id": "ksCOgH6e6d8e",
        "colab_type": "code",
        "outputId": "13f47a8f-df43-4e08-fd63-ec9eee68751e",
        "colab": {
          "base_uri": "https://localhost:8080/",
          "height": 170
        }
      },
      "source": [
        "file_name='2E_ExtraCellular_group_10um_vol'\n",
        "zip_exists = os.path.isfile(file_name+'.msh')\n",
        "if zip_exists==False:\n",
        "    file_dir='https://raw.githubusercontent.com/van-dang/DMRI-FEM-Cloud/mesh/'+file_name+'.msh.zip'\n",
        "    !wget -q $file_dir\n",
        "    unzip_dir=!which unzip\n",
        "    if len(unzip_dir)==0:\n",
        "        !sudo apt-get install -y unzip\n",
        "    !unzip -q $file_name''.msh.zip\n",
        "!dolfin-convert $file_name''.msh $file_name''.xml\n",
        "\n",
        "mymesh = Mesh(file_name+'.xml');\n",
        "gdim = mymesh.geometry().dim()\n",
        "tdim = mymesh.topology().dim()\n",
        "\n",
        "print('Topological dimension: ',tdim)\n",
        "print('Geometrical dimension: ',gdim)\n",
        "print('Mesh size: #vertices: '+str(mymesh.num_vertices()) +', #elements: '+str(mymesh.num_cells()) );"
      ],
      "execution_count": 4,
      "outputs": [
        {
          "output_type": "stream",
          "text": [
            "Converting from Gmsh format (.msh, .gmsh) to DOLFIN XML format\n",
            "Expecting 504294 vertices\n",
            "Found all vertices\n",
            "Expecting 1505982 cells\n",
            "Found all cells\n",
            "Conversion done\n",
            "Topological dimension:  3\n",
            "Geometrical dimension:  3\n",
            "Mesh size: #vertices: 504294, #elements: 1505982\n"
          ],
          "name": "stdout"
        }
      ]
    },
    {
      "cell_type": "markdown",
      "metadata": {
        "id": "aFEvif9PF2yH",
        "colab_type": "text"
      },
      "source": [
        "# Solve the Bloch-Torrey equation"
      ]
    },
    {
      "cell_type": "code",
      "metadata": {
        "id": "DYZ5SWlw69tQ",
        "colab_type": "code",
        "outputId": "70f8f671-3909-43d0-9db5-edb9e19340eb",
        "colab": {
          "base_uri": "https://localhost:8080/",
          "height": 578
        }
      },
      "source": [
        "mri_simu = MRI_simulation()\n",
        "mri_para = MRI_parameters()\n",
        "\n",
        "#################################################################################\n",
        "#########################  Pre-defined parameters ###############################\n",
        "mri_para.stype='PGSE'                                # sequence type\n",
        "mri_para.bvalue = 10000;                              # bvalue\n",
        "mri_para.delta, mri_para.Delta = 10600, 43100        # time sequence\n",
        "mri_para.set_gradient_dir(mymesh, 0, 1, 0)           # gradient direction\n",
        "\n",
        "mri_para.T = mri_para.Delta+mri_para.delta\n",
        "mri_para.fs_sym = sp.Piecewise(\n",
        "                (  1., mri_para.s < mri_para.delta ),\n",
        "                (  0., mri_para.s < mri_para.Delta ),\n",
        "                ( -1., mri_para.s < mri_para.T ),\n",
        "                (  0., True )  \n",
        "            ) \n",
        "\n",
        "mri_para.Apply()\n",
        "mri_simu.k = 250;                                   # time-step size\n",
        "mri_simu.nskip = 1;                                  # frequency to print ouputs\n",
        "mydomain = MyDomain(mymesh, mri_para)\n",
        "mydomain.phase = None\n",
        "mydomain.PeriodicDir = [0, 0, 0];             # Direction of the periodicity\n",
        "mydomain.IsDomainPeriodic = False             # Confirm if the mesh if periodic\n",
        "mydomain.IsDomainMultiple = False             # Confirm if the mesh is multiple\n",
        "mydomain.kappa = 1e-5                         # Permeability\n",
        "################################################################################\n",
        "mydomain.Apply()   # Call Apply before setting the diffusion tensor\n",
        "################################################################################\n",
        "# Impose the diffusion coefficient\n",
        "mydomain.D = 3e-3;\n",
        "#################################################################################\n",
        "\n",
        "linsolver = PETScLUSolver(\"mumps\")\n",
        "#linsolver = KrylovSolver(\"bicgstab\")\n",
        "#linsolver.parameters[\"absolute_tolerance\"] = 1e-4\n",
        "#linsolver.parameters[\"relative_tolerance\"] = 1e-4\n",
        "#linsolver.parameters[\"maximum_iterations\"] = 10000\n",
        "\n",
        "mri_simu.solve(mydomain, mri_para, linsolver)\n",
        "\n",
        "PostProcessing(mydomain, mri_para, mri_simu, plt, 'Extracellular Simulation')\n",
        "\n",
        "# k=2000, 2.413789e-01\n",
        "# k=1000, 2.971450e-01\n",
        "# k=500,  3.003559e-01"
      ],
      "execution_count": 0,
      "outputs": [
        {
          "output_type": "stream",
          "text": [
            "Domain size: xmin=-2.934720, ymin=-4.648229, zmin=-4.759823, xmax=8.407882, ymax=10.192547, zmax=9.834735\n",
            "Function Space for Single Domains has 2 components\n",
            "(ur, ui): r-real, i-imaginary\n",
            "Initialize a standard function space.\n",
            "t:   0.00  T: 53700.00 dt: 250.0 qvalue: 4.742741e-05 Completed 0.00%\n",
            "t: 250.00  T: 53700.00 dt: 250.0 qvalue: 4.742741e-05 Completed 0.46%\n",
            "t: 500.00  T: 53700.00 dt: 250.0 qvalue: 4.742741e-05 Completed 0.93%\n",
            "t: 750.00  T: 53700.00 dt: 250.0 qvalue: 4.742741e-05 Completed 1.39%\n",
            "t: 1000.00  T: 53700.00 dt: 250.0 qvalue: 4.742741e-05 Completed 1.85%\n",
            "t: 1250.00  T: 53700.00 dt: 250.0 qvalue: 4.742741e-05 Completed 2.32%\n",
            "t: 1500.00  T: 53700.00 dt: 250.0 qvalue: 4.742741e-05 Completed 2.78%\n",
            "t: 1750.00  T: 53700.00 dt: 250.0 qvalue: 4.742741e-05 Completed 3.24%\n",
            "t: 2000.00  T: 53700.00 dt: 250.0 qvalue: 4.742741e-05 Completed 3.71%\n",
            "t: 2250.00  T: 53700.00 dt: 250.0 qvalue: 4.742741e-05 Completed 4.17%\n",
            "t: 2500.00  T: 53700.00 dt: 250.0 qvalue: 4.742741e-05 Completed 4.63%\n",
            "t: 2750.00  T: 53700.00 dt: 250.0 qvalue: 4.742741e-05 Completed 5.10%\n",
            "t: 3000.00  T: 53700.00 dt: 250.0 qvalue: 4.742741e-05 Completed 5.56%\n",
            "t: 3250.00  T: 53700.00 dt: 250.0 qvalue: 4.742741e-05 Completed 6.02%\n",
            "t: 3500.00  T: 53700.00 dt: 250.0 qvalue: 4.742741e-05 Completed 6.49%\n",
            "t: 3750.00  T: 53700.00 dt: 250.0 qvalue: 4.742741e-05 Completed 6.95%\n",
            "t: 4000.00  T: 53700.00 dt: 250.0 qvalue: 4.742741e-05 Completed 7.41%\n",
            "t: 4250.00  T: 53700.00 dt: 250.0 qvalue: 4.742741e-05 Completed 7.88%\n",
            "t: 4500.00  T: 53700.00 dt: 250.0 qvalue: 4.742741e-05 Completed 8.34%\n",
            "t: 4750.00  T: 53700.00 dt: 250.0 qvalue: 4.742741e-05 Completed 8.80%\n",
            "t: 5000.00  T: 53700.00 dt: 250.0 qvalue: 4.742741e-05 Completed 9.27%\n",
            "t: 5250.00  T: 53700.00 dt: 250.0 qvalue: 4.742741e-05 Completed 9.73%\n",
            "t: 5500.00  T: 53700.00 dt: 250.0 qvalue: 4.742741e-05 Completed 10.19%\n",
            "t: 5750.00  T: 53700.00 dt: 250.0 qvalue: 4.742741e-05 Completed 10.66%\n",
            "t: 6000.00  T: 53700.00 dt: 250.0 qvalue: 4.742741e-05 Completed 11.12%\n",
            "t: 6250.00  T: 53700.00 dt: 250.0 qvalue: 4.742741e-05 Completed 11.58%\n",
            "t: 6500.00  T: 53700.00 dt: 250.0 qvalue: 4.742741e-05 Completed 12.05%\n",
            "t: 6750.00  T: 53700.00 dt: 250.0 qvalue: 4.742741e-05 Completed 12.51%\n",
            "t: 7000.00  T: 53700.00 dt: 250.0 qvalue: 4.742741e-05 Completed 12.97%\n"
          ],
          "name": "stdout"
        }
      ]
    }
  ]
}