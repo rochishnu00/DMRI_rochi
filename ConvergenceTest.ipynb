{
  "nbformat": 4,
  "nbformat_minor": 0,
  "metadata": {
    "colab": {
      "name": "ConvergenceTest.ipynb",
      "version": "0.3.2",
      "provenance": [],
      "collapsed_sections": [
        "vS_YdSbqFOln",
        "9SJXe6I5JUwF",
        "6l4kvMZQb3z6",
        "r6GW2fwLE042"
      ],
      "toc_visible": true,
      "include_colab_link": true
    },
    "kernelspec": {
      "name": "python3",
      "display_name": "Python 3"
    },
    "accelerator": "GPU"
  },
  "cells": [
    {
      "cell_type": "markdown",
      "metadata": {
        "id": "view-in-github",
        "colab_type": "text"
      },
      "source": [
        "<a href=\"https://colab.research.google.com/github/van-dang/MRI-Cloud/blob/master/ConvergenceTest.ipynb\" target=\"_parent\"><img src=\"https://colab.research.google.com/assets/colab-badge.svg\" alt=\"Open In Colab\"/></a>"
      ]
    },
    {
      "cell_type": "markdown",
      "metadata": {
        "id": "vS_YdSbqFOln",
        "colab_type": "text"
      },
      "source": [
        "# About the code"
      ]
    },
    {
      "cell_type": "code",
      "metadata": {
        "id": "CiQ9r51xKgWh",
        "colab_type": "code",
        "colab": {}
      },
      "source": [
        "# This program solves the Bloch-Torrey equation applied to computational diffusion MRI using \n",
        "# the finite element method coupled with the theta-method for the spatial discretization.\n",
        "\n",
        "# The scope of usage: \n",
        "# (1) Single domains, Multilayered structures, manifolds\n",
        "# (2) Membrane permeability for internal interfaces\n",
        "#     Artificial permeability at the external interfaces\n",
        "# (3) pure homogeneous Neumann BCs, (4) pseudo-periodic BCs\n",
        "\n",
        "# Copyright (C) 2019 Van-Dang Nguyen (vdnguyen@kth.se)\n",
        "\n",
        "# This file is part of DOLFIN.\n",
        "\n",
        "# DOLFIN is free software: you can redistribute it and/or modify\n",
        "# it under the terms of the GNU Lesser General Public License as published by\n",
        "# the Free Software Foundation, either version 3 of the License, or\n",
        "# (at your option) any later version.\n",
        "\n",
        "# DOLFIN is distributed in the hope that it will be useful,\n",
        "# but WITHOUT ANY WARRANTY; without even the implied warranty of\n",
        "# MERCHANTABILITY or FITNESS FOR A PARTICULAR PURPOSE. See the\n",
        "# GNU Lesser General Public License for more details.\n",
        "\n",
        "# You should have received a copy of the GNU Lesser General Public License\n",
        "# along with DOLFIN. If not, see <http://www.gnu.org/licenses/>.\n",
        "\n",
        "# First added:  2017-10-10\n",
        "# Last changed: 2019-04-25\n",
        "\n",
        "# This demo is maintained by Van-Dang Nguyen\n",
        "# Please report possible problems to vdnguyen@kth.se"
      ],
      "execution_count": 0,
      "outputs": []
    },
    {
      "cell_type": "markdown",
      "metadata": {
        "id": "9SJXe6I5JUwF",
        "colab_type": "text"
      },
      "source": [
        "# Setting a working environment with FEniCS"
      ]
    },
    {
      "cell_type": "code",
      "metadata": {
        "id": "4jWzVxURFVLj",
        "colab_type": "code",
        "outputId": "e708ea9c-4c82-4068-a506-bd70b452635e",
        "colab": {
          "base_uri": "https://localhost:8080/",
          "height": 54
        }
      },
      "source": [
        "from google.colab import files\n",
        "\n",
        "import platform, sys\n",
        "python_version=platform.python_version()\n",
        "from distutils.version import LooseVersion, StrictVersion\n",
        "\n",
        "if ( LooseVersion(python_version) < LooseVersion(\"3.0.0\")):\n",
        "    print(\"Python3 is needed!\");\n",
        "    print(\"How to fix: Runtime/Change_runtime_type/Python 3\");\n",
        "    sys.exit()\n",
        "    \n",
        "try:\n",
        "    from dolfin import *; from mshr import *\n",
        "except ImportError as e:\n",
        "    !apt-get install -y -qq software-properties-common python-software-properties module-init-tools\n",
        "    !add-apt-repository -y ppa:fenics-packages/fenics\n",
        "    !apt-get update -qq\n",
        "    !apt install -y --no-install-recommends fenics\n",
        "    from dolfin import *; from mshr import *\n",
        "\n",
        "gmsh_dir=!which gmsh\n",
        "if len(gmsh_dir)==0:\n",
        "  !apt-get install gmsh\n",
        "    \n",
        "import matplotlib.pyplot as plt;\n",
        "from IPython.display import clear_output, display; import time; import dolfin.common.plotting as fenicsplot \n",
        "import time\n",
        "\n",
        "import os, sys, shutil\n",
        "\n",
        "import sympy as sp\n",
        "\n",
        "\n",
        "clear_output()\n",
        "\n",
        "dolfin_version = dolfin.__version__\n",
        "print ('dolfin version:', dolfin_version)\n",
        "\n",
        "# Disable warnings\n",
        "import logging\n",
        "logging.basicConfig(level=logging.DEBUG)\n",
        "logger = logging.getLogger(\"rothemain.rothe_utils\")\n",
        "logging.getLogger('UFL').setLevel(logging.WARNING)\n",
        "logging.getLogger('FFC').setLevel(logging.WARNING)\n",
        "\n",
        "import warnings\n",
        "warnings.filterwarnings(\"ignore\")\n"
      ],
      "execution_count": 2,
      "outputs": [
        {
          "output_type": "stream",
          "text": [
            "dolfin version: 2019.1.0\n"
          ],
          "name": "stdout"
        }
      ]
    },
    {
      "cell_type": "markdown",
      "metadata": {
        "id": "6l4kvMZQb3z6",
        "colab_type": "text"
      },
      "source": [
        "#Load pre-defined functions"
      ]
    },
    {
      "cell_type": "code",
      "metadata": {
        "id": "x3L26nGPb7kZ",
        "colab_type": "code",
        "colab": {}
      },
      "source": [
        "import sympy as sp  \n",
        "exists = os.path.isfile('DmriFemBuitInFunc.py')\n",
        "isupdate = False\n",
        "if (exists==False or isupdate==True):\n",
        "    if isupdate==True:\n",
        "        !rm DmriFemBuitInFunc.py\n",
        "    print(\"Load pre-defined functions from GitHub\")\n",
        "    !wget --quiet https://raw.githubusercontent.com/van-dang/MRI-Cloud/master/DmriFemBuitInFunc.py\n",
        "from DmriFemBuitInFunc import *"
      ],
      "execution_count": 0,
      "outputs": []
    },
    {
      "cell_type": "markdown",
      "metadata": {
        "id": "r6GW2fwLE042",
        "colab_type": "text"
      },
      "source": [
        "# Working on the mesh"
      ]
    },
    {
      "cell_type": "code",
      "metadata": {
        "id": "ksCOgH6e6d8e",
        "colab_type": "code",
        "outputId": "45663cf2-9045-43a9-ff51-4c8621e01f51",
        "colab": {
          "base_uri": "https://localhost:8080/",
          "height": 452
        }
      },
      "source": [
        "geo_choice = 3\n",
        "if geo_choice == 1:\n",
        "    mesh_file = \"fru_M_100383_1D.xml\"\n",
        "else:    \n",
        "    mesh_file = \"fru_M_100383_3D.xml\"\n",
        "mesh_file_exists = os.path.isfile(mesh_file)\n",
        "if (mesh_file_exists==False):\n",
        "    !wget https://github.com/van-dang/MRI-Cloud/raw/mesh/$mesh_file''.zip  \n",
        "    !unzip -q $mesh_file''.zip\n",
        "\n",
        "# mymesh = Mesh(mesh_file);\n",
        "#n = 80;\n",
        "#geometry = Cylinder(Point(0, 0, -2.5), Point(0, 0, 2.5), 1, 1)\n",
        "#mymesh = generate_mesh(geometry, n)\n",
        "\n",
        "#mesh_file_geo = os.path.isfile(\"multi_layered_cylinder.geo\")\n",
        "#if (mesh_file_geo==False):\n",
        "#    !wget https://raw.githubusercontent.com/van-dang/MRI-Cloud/mesh/multi_layered_cylinder.geo\n",
        "#!sed -i -e 's/5,7.5,10.0/5/g' multi_layered_cylinder.geo\n",
        "      \n",
        "# n=40;\n",
        "# mymesh = RectangleMesh(Point(-2.5, -2.5), Point(2.5, 2.5), n, n)\n",
        "n=5\n",
        "mymesh = BoxMesh(Point(-2.5,-2.5, -2.5), Point(2.5, 2.5, 2.5), n, n, n)\n",
        "\n",
        "File('mesh.xml')<<mymesh\n",
        "!pip install meshio\n",
        "!meshio-convert mesh.xml mesh.msh\n",
        "\n",
        "plot(mymesh)"
      ],
      "execution_count": 110,
      "outputs": [
        {
          "output_type": "stream",
          "text": [
            "Requirement already satisfied: meshio in /usr/local/lib/python3.6/dist-packages (2.3.8)\n",
            "Requirement already satisfied: numpy in /usr/local/lib/python3.6/dist-packages (from meshio) (1.16.3)\n",
            "WARNING:root:Unknown entry data. Ignoring.\n",
            "Number of points: 216\n",
            "Number of elements:\n",
            "  tetra: 750\n",
            "WARNING:root:Writing MSH4.1 unimplemented, falling back on MSH2\n",
            "WARNING:root:Binary Gmsh needs 32-bit integers (got int64). Converting.\n"
          ],
          "name": "stdout"
        },
        {
          "output_type": "stream",
          "text": [
            "DEBUG:matplotlib.axes._base:update_title_pos\n",
            "DEBUG:matplotlib.axes._base:update_title_pos\n",
            "DEBUG:matplotlib.axes._base:update_title_pos\n",
            "DEBUG:matplotlib.axes._base:update_title_pos\n"
          ],
          "name": "stderr"
        },
        {
          "output_type": "display_data",
          "data": {
            "image/png": "[encoded data removed]",
            "text/plain": [
              "<Figure size 432x288 with 1 Axes>"
            ]
          },
          "metadata": {
            "tags": []
          }
        }
      ]
    },
    {
      "cell_type": "markdown",
      "metadata": {
        "id": "aFEvif9PF2yH",
        "colab_type": "text"
      },
      "source": [
        "# Solve the Bloch-Torrey equation"
      ]
    },
    {
      "cell_type": "code",
      "metadata": {
        "id": "DYZ5SWlw69tQ",
        "colab_type": "code",
        "outputId": "7d1e9ad9-35d4-4c5a-b660-6105fa11e466",
        "colab": {
          "base_uri": "https://localhost:8080/",
          "height": 380
        }
      },
      "source": [
        "mri_simu = MRI_simulation()\n",
        "mri_para = MRI_parameters()\n",
        "\n",
        "bvalues = [1000]\n",
        "\n",
        "for bvalue in bvalues:\n",
        "    #################################################################################\n",
        "    #########################  Pre-defined parameters ###############################\n",
        "    mri_para.stype='PGSE'                                # sequence type\n",
        "    mri_para.bvalue = bvalue;                              # bvalue\n",
        "    mri_para.delta, mri_para.Delta = 1000, 10000        # time sequence\n",
        "    mri_para.set_gradient_dir(mymesh, 0, 0, 1)           # gradient direction\n",
        "\n",
        "    mri_para.T = mri_para.Delta+mri_para.delta\n",
        "    mri_para.fs_sym = sp.Piecewise(\n",
        "                    (  1., mri_para.s < mri_para.delta ),\n",
        "                    (  0., mri_para.s < mri_para.Delta ),\n",
        "                    ( -1., mri_para.s < mri_para.T ),\n",
        "                    (  0., True )  \n",
        "                ) \n",
        "\n",
        "\n",
        "    mri_para.Apply()\n",
        "    mri_simu.k = 10;                                    # time-step size\n",
        "    mri_simu.nskip = 100;                                  # frequency to print ouputs\n",
        "    mydomain = MyDomain(mymesh, mri_para)\n",
        "    mydomain.phase = None\n",
        "    mydomain.PeriodicDir = [0, 0, 0];             # Direction of the periodicity\n",
        "    mydomain.IsDomainPeriodic = False             # Confirm if the mesh if periodic\n",
        "    mydomain.IsDomainMultiple = False             # Confirm if the mesh is multiple\n",
        "    ################################################################################\n",
        "    mydomain.Apply()   # Call Apply before setting the diffusion tensor\n",
        "    ################################################################################\n",
        "    # Impose the diffusion coefficient\n",
        "    mydomain.D0 = 2e-3\n",
        "    mydomain.D = mydomain.D0;\n",
        "    #################################################################################\n",
        "\n",
        "    linsolver = PETScLUSolver(\"mumps\")\n",
        "    # linsolver = KrylovSolver(\"bicgstab\")\n",
        "\n",
        "    #ic = Expression(\"x[0]*x[0]+x[1]*x[1]<eps\",eps=1e-1, domain=mydomain.mymesh, degree=1);\n",
        "    #ic = interpolate(ic, mydomain.V);\n",
        "    #ic = None\n",
        "    \n",
        "    #mri_simu.solve(mydomain, mri_para, linsolver, ic)\n",
        "\n",
        "    mri_simu.Dirac_Delta, mri_simu.u_0 = mri_simu.InitialCondition(mydomain, None)\n",
        "\n",
        "    stepcounter = 0;\n",
        "\n",
        "    M = MassMatrix(mydomain);\n",
        "\n",
        "    mri_simu.t = 0;\n",
        "    ft_prev  =  mri_para.time_profile(mri_simu.t);\n",
        "    ift_prev = mri_para.itime_profile(mri_simu.t);\n",
        "\n",
        "    start_time = time.time()\n",
        "\n",
        "    while mri_simu.t < mri_para.T: # Time-stepping loop\n",
        "        if stepcounter % mri_simu.nskip == 0:\n",
        "            print('t: %6.2f '%mri_simu.t, 'T: %6.2f'%mri_para.T, 'dt: %.1f'%mri_simu.k,'qvalue: %e'%mri_para.qvalue,'Completed %3.2f%%'%(float(mri_simu.t)/float(mri_para.T+mri_simu.k)*100.0));\n",
        "\n",
        "        ft = mri_para.time_profile(mri_simu.t);\n",
        "        ift = mri_para.itime_profile(mri_simu.t);\n",
        "\n",
        "        L = ThetaMethodL(ft_prev, ift_prev, mri_para, mri_simu, mydomain);\n",
        "        A = 1/mri_simu.k*M + assemble(ThetaMethodF(ft, ift, mri_para, mri_simu, mydomain))\n",
        "\n",
        "        b = assemble(L);\n",
        "\n",
        "        linsolver.solve(A, mri_simu.u_0.vector(),b);\n",
        "\n",
        "        ft_prev  = ft;\n",
        "        ift_prev = ift;\n",
        "\n",
        "        mri_simu.t += mri_simu.k;\n",
        "        stepcounter += 1;\n",
        "\n",
        "    mri_simu.elapsed_time = time.time() - start_time\n",
        "    print(\"Successfully Completed! Elapsed time: %f seconds\"%mri_simu.elapsed_time)   \n",
        "\n",
        "    \n",
        "    ctext = \"\"\n",
        "    #if bvalue==1000:\n",
        "    #    ctext = \"3D realistic neuron, kcoeff=3e-3, delta=10600us, Delta=43100us, dt=200us, gdir=200\"\n",
        "    Post_processing(mydomain, mri_para, mri_simu, None, ctext)"
      ],
      "execution_count": 103,
      "outputs": [
        {
          "output_type": "stream",
          "text": [
            "Function Space for Single Domains has 2 components\n",
            "(ur, ui): r-real, i-imaginary\n",
            "Initialize a standard function space.\n",
            "t:   0.00  T: 11000.00 dt: 10.0 qvalue: 3.216338e-04 Completed 0.00%\n",
            "t: 1000.00  T: 11000.00 dt: 10.0 qvalue: 3.216338e-04 Completed 9.08%\n",
            "t: 2000.00  T: 11000.00 dt: 10.0 qvalue: 3.216338e-04 Completed 18.17%\n",
            "t: 3000.00  T: 11000.00 dt: 10.0 qvalue: 3.216338e-04 Completed 27.25%\n",
            "t: 4000.00  T: 11000.00 dt: 10.0 qvalue: 3.216338e-04 Completed 36.33%\n",
            "t: 5000.00  T: 11000.00 dt: 10.0 qvalue: 3.216338e-04 Completed 45.41%\n",
            "t: 6000.00  T: 11000.00 dt: 10.0 qvalue: 3.216338e-04 Completed 54.50%\n",
            "t: 7000.00  T: 11000.00 dt: 10.0 qvalue: 3.216338e-04 Completed 63.58%\n",
            "t: 8000.00  T: 11000.00 dt: 10.0 qvalue: 3.216338e-04 Completed 72.66%\n",
            "t: 9000.00  T: 11000.00 dt: 10.0 qvalue: 3.216338e-04 Completed 81.74%\n",
            "t: 10000.00  T: 11000.00 dt: 10.0 qvalue: 3.216338e-04 Completed 90.83%\n",
            "Successfully Completed! Elapsed time: 420.243403 seconds\n",
            "b: 1000.000, g: 1.202, q: 3.216e-04, Signal: 1.055e+02, Normalized signal: 8.440078e-01, dt: 10.000, hmin: 5.413e-01, hmax: 5.413e-01, whole_vol: 125.000, vol_of_interest: 125.000, Free signal: 1.353e-01, elasped time 420.243 (s)\n",
            "\n",
            "rank:  0\n",
            "save to log.txt\n"
          ],
          "name": "stdout"
        }
      ]
    },
    {
      "cell_type": "code",
      "metadata": {
        "id": "DqFQwM5sgPWe",
        "colab_type": "code",
        "colab": {
          "base_uri": "https://localhost:8080/",
          "height": 2503
        },
        "outputId": "a7446737-535a-4d37-8fc0-d757da42db0b"
      },
      "source": [
        "import numpy as np\n",
        "# For the rectangle\n",
        "cyl_ref_001=0.84389487095614\n",
        "\n",
        "# Measured at TE=Delta+delta\n",
        "# b: 1000.000, g: 1.202, q: 3.216e-04, Signal: 2.112e+01, Normalized signal: 8.449737e-01, dt: 10.000, hmin: 1.414e+00, hmax: 1.414e+00, whole_vol: 25.000, vol_of_interest: 25.000, Free signal: 1.353e-01, elasped time 8.389 (s)\n",
        "# b: 1000.000, g: 1.202, q: 3.216e-04, Signal: 2.110e+01, Normalized signal: 8.441826e-01, dt: 10.000, hmin: 7.071e-01, hmax: 7.071e-01, whole_vol: 25.000, vol_of_interest: 25.000, Free signal: 1.353e-01, elasped time 13.294 (s)\n",
        "# b: 1000.000, g: 1.202, q: 3.216e-04, Signal: 2.110e+01, Normalized signal: 8.439677e-01, dt: 10.000, hmin: 3.536e-01, hmax: 3.536e-01, whole_vol: 25.000, vol_of_interest: 25.000, Free signal: 1.353e-01, elasped time 19.423 (s)\n",
        "# b: 1000.000, g: 1.202, q: 3.216e-04, Signal: 2.110e+01, Normalized signal: 8.439126e-01, dt: 10.000, hmin: 1.768e-01, hmax: 1.768e-01, whole_vol: 25.000, vol_of_interest: 25.000, Free signal: 1.353e-01, elasped time 48.678 (s)\n",
        "# b: 1000.000, g: 1.202, q: 3.216e-04, Signal: 2.110e+01, Normalized signal: 8.439059e-01, dt: 10.000, hmin: 1.414e-01, hmax: 1.414e-01, whole_vol: 25.000, vol_of_interest: 25.000, Free signal: 1.353e-01, elasped time 93.727 (s)\n",
        "signal1=[8.449737e-01, 8.441826e-01, 8.439677e-01, 8.439126e-01, 8.439059e-01];\n",
        "hmax1=[1.414e+00, 7.071e-01, 3.536e-01, 1.768e-01, 1.414e-01];\n",
        "error1=np.abs(np.subtract(signal1, cyl_ref_001));\n",
        "\n",
        "# Measured at TE>Delta+delta\n",
        "# b: 1000.000, g: 1.202, q: 3.216e-04, Signal: 2.111e+01, Normalized signal: 8.443373e-01, dt: 10.000, hmin: 1.414e+00, hmax: 1.414e+00, whole_vol: 25.000, vol_of_interest: 25.000, Free signal: 1.353e-01, elasped time 7.931 (s)\n",
        "# b: 1000.000, g: 1.202, q: 3.216e-04, Signal: 2.108e+01, Normalized signal: 8.433257e-01, dt: 10.000, hmin: 3.536e-01, hmax: 3.536e-01, whole_vol: 25.000, vol_of_interest: 25.000, Free signal: 1.353e-01, elasped time 18.217 (s)\n",
        "# b: 1000.000, g: 1.202, q: 3.216e-04, Signal: 2.108e+01, Normalized signal: 8.432702e-01, dt: 10.000, hmin: 1.768e-01, hmax: 1.768e-01, whole_vol: 25.000, vol_of_interest: 25.000, Free signal: 1.353e-01, elasped time 48.918 (s)\n",
        "signal2=[8.443373e-01, 8.433257e-01, 8.432702e-01];\n",
        "hmax2=[1.414e+00, 3.536e-01, 1.768e-01];\n",
        "error2=np.abs(np.subtract(signal2, cyl_ref_001));\n",
        "\n",
        "plt.loglog(hmax1, error1,'-o',hmax2, error2, '-p', hmax1, np.power(hmax1,2));\n",
        "\n",
        "plt.legend(['Measured at T=Delta+delta','Measured at T>Delta+delta','O(h^2)'])\n"
      ],
      "execution_count": 82,
      "outputs": [
        {
          "output_type": "execute_result",
          "data": {
            "text/plain": [
              "<matplotlib.legend.Legend at 0x7fd0ba67b908>"
            ]
          },
          "metadata": {
            "tags": []
          },
          "execution_count": 82
        },
        {
          "output_type": "stream",
          "text": [
            "DEBUG:matplotlib.axes._base:update_title_pos\n",
            "DEBUG:matplotlib.ticker:vmin 0.12602288265211165 vmax 1.5865340943829762\n",
            "DEBUG:matplotlib.ticker:ticklocs array([1.e-02, 1.e-01, 1.e+00, 1.e+01, 1.e+02])\n",
            "DEBUG:matplotlib.ticker:vmin 0.12602288265211165 vmax 1.5865340943829762\n",
            "DEBUG:matplotlib.ticker:ticklocs [0.02, 0.03, 0.04, 0.05, 0.06, 0.07, 0.08, 0.09, 0.2, 0.30000000000000004, 0.4, 0.5, 0.6000000000000001, 0.7000000000000001, 0.8, 0.9, 2.0, 3.0, 4.0, 5.0, 6.0, 7.0, 8.0, 9.0, 20.0, 30.0, 40.0, 50.0, 60.0, 70.0, 80.0, 90.0, 200.0, 300.0, 400.0, 500.0, 600.0, 700.0, 800.0, 900.0]\n",
            "DEBUG:matplotlib.ticker:vmin 0.12602288265211165 vmax 1.5865340943829762\n",
            "DEBUG:matplotlib.ticker:ticklocs array([1.e-02, 1.e-01, 1.e+00, 1.e+01, 1.e+02])\n",
            "DEBUG:matplotlib.ticker:vmin 0.12602288265211165 vmax 1.5865340943829762\n",
            "DEBUG:matplotlib.ticker:ticklocs [0.02, 0.03, 0.04, 0.05, 0.06, 0.07, 0.08, 0.09, 0.2, 0.30000000000000004, 0.4, 0.5, 0.6000000000000001, 0.7000000000000001, 0.8, 0.9, 2.0, 3.0, 4.0, 5.0, 6.0, 7.0, 8.0, 9.0, 20.0, 30.0, 40.0, 50.0, 60.0, 70.0, 80.0, 90.0, 200.0, 300.0, 400.0, 500.0, 600.0, 700.0, 800.0, 900.0]\n",
            "DEBUG:matplotlib.ticker:vmin 6.020323326870857e-06 vmax 3.6628308780392342\n",
            "DEBUG:matplotlib.ticker:ticklocs array([1.e-07, 1.e-06, 1.e-05, 1.e-04, 1.e-03, 1.e-02, 1.e-01, 1.e+00,\n",
            "       1.e+01, 1.e+02])\n",
            "DEBUG:matplotlib.ticker:vmin 6.020323326870857e-06 vmax 3.6628308780392342\n",
            "DEBUG:matplotlib.ticker:ticklocs [2e-07, 3e-07, 4e-07, 5e-07, 6e-07, 7e-07, 8e-07, 9e-07, 2e-06, 3e-06, 4e-06, 4.9999999999999996e-06, 6e-06, 7e-06, 8e-06, 9e-06, 2e-05, 3.0000000000000004e-05, 4e-05, 5e-05, 6.000000000000001e-05, 7.000000000000001e-05, 8e-05, 9e-05, 0.0002, 0.00030000000000000003, 0.0004, 0.0005, 0.0006000000000000001, 0.0007, 0.0008, 0.0009000000000000001, 0.002, 0.003, 0.004, 0.005, 0.006, 0.007, 0.008, 0.009000000000000001, 0.02, 0.03, 0.04, 0.05, 0.06, 0.07, 0.08, 0.09, 0.2, 0.30000000000000004, 0.4, 0.5, 0.6000000000000001, 0.7000000000000001, 0.8, 0.9, 2.0, 3.0, 4.0, 5.0, 6.0, 7.0, 8.0, 9.0, 20.0, 30.0, 40.0, 50.0, 60.0, 70.0, 80.0, 90.0, 200.0, 300.0, 400.0, 500.0, 600.0, 700.0, 800.0, 900.0]\n",
            "DEBUG:matplotlib.ticker:vmin 6.020323326870857e-06 vmax 3.6628308780392342\n",
            "DEBUG:matplotlib.ticker:ticklocs array([1.e-07, 1.e-06, 1.e-05, 1.e-04, 1.e-03, 1.e-02, 1.e-01, 1.e+00,\n",
            "       1.e+01, 1.e+02])\n",
            "DEBUG:matplotlib.ticker:vmin 6.020323326870857e-06 vmax 3.6628308780392342\n",
            "DEBUG:matplotlib.ticker:ticklocs [2e-07, 3e-07, 4e-07, 5e-07, 6e-07, 7e-07, 8e-07, 9e-07, 2e-06, 3e-06, 4e-06, 4.9999999999999996e-06, 6e-06, 7e-06, 8e-06, 9e-06, 2e-05, 3.0000000000000004e-05, 4e-05, 5e-05, 6.000000000000001e-05, 7.000000000000001e-05, 8e-05, 9e-05, 0.0002, 0.00030000000000000003, 0.0004, 0.0005, 0.0006000000000000001, 0.0007, 0.0008, 0.0009000000000000001, 0.002, 0.003, 0.004, 0.005, 0.006, 0.007, 0.008, 0.009000000000000001, 0.02, 0.03, 0.04, 0.05, 0.06, 0.07, 0.08, 0.09, 0.2, 0.30000000000000004, 0.4, 0.5, 0.6000000000000001, 0.7000000000000001, 0.8, 0.9, 2.0, 3.0, 4.0, 5.0, 6.0, 7.0, 8.0, 9.0, 20.0, 30.0, 40.0, 50.0, 60.0, 70.0, 80.0, 90.0, 200.0, 300.0, 400.0, 500.0, 600.0, 700.0, 800.0, 900.0]\n",
            "DEBUG:matplotlib.ticker:vmin 0.12602288265211165 vmax 1.5865340943829762\n",
            "DEBUG:matplotlib.ticker:ticklocs array([1.e-02, 1.e-01, 1.e+00, 1.e+01, 1.e+02])\n",
            "DEBUG:matplotlib.ticker:vmin 0.12602288265211165 vmax 1.5865340943829762\n",
            "DEBUG:matplotlib.ticker:ticklocs [0.02, 0.03, 0.04, 0.05, 0.06, 0.07, 0.08, 0.09, 0.2, 0.30000000000000004, 0.4, 0.5, 0.6000000000000001, 0.7000000000000001, 0.8, 0.9, 2.0, 3.0, 4.0, 5.0, 6.0, 7.0, 8.0, 9.0, 20.0, 30.0, 40.0, 50.0, 60.0, 70.0, 80.0, 90.0, 200.0, 300.0, 400.0, 500.0, 600.0, 700.0, 800.0, 900.0]\n",
            "DEBUG:matplotlib.ticker:vmin 0.12602288265211165 vmax 1.5865340943829762\n",
            "DEBUG:matplotlib.ticker:ticklocs array([1.e-02, 1.e-01, 1.e+00, 1.e+01, 1.e+02])\n",
            "DEBUG:matplotlib.ticker:vmin 0.12602288265211165 vmax 1.5865340943829762\n",
            "DEBUG:matplotlib.ticker:ticklocs [0.02, 0.03, 0.04, 0.05, 0.06, 0.07, 0.08, 0.09, 0.2, 0.30000000000000004, 0.4, 0.5, 0.6000000000000001, 0.7000000000000001, 0.8, 0.9, 2.0, 3.0, 4.0, 5.0, 6.0, 7.0, 8.0, 9.0, 20.0, 30.0, 40.0, 50.0, 60.0, 70.0, 80.0, 90.0, 200.0, 300.0, 400.0, 500.0, 600.0, 700.0, 800.0, 900.0]\n",
            "DEBUG:matplotlib.axes._base:update_title_pos\n",
            "DEBUG:matplotlib.ticker:vmin 6.020323326870857e-06 vmax 3.6628308780392342\n",
            "DEBUG:matplotlib.ticker:ticklocs array([1.e-07, 1.e-06, 1.e-05, 1.e-04, 1.e-03, 1.e-02, 1.e-01, 1.e+00,\n",
            "       1.e+01, 1.e+02])\n",
            "DEBUG:matplotlib.ticker:vmin 6.020323326870857e-06 vmax 3.6628308780392342\n",
            "DEBUG:matplotlib.ticker:ticklocs [2e-07, 3e-07, 4e-07, 5e-07, 6e-07, 7e-07, 8e-07, 9e-07, 2e-06, 3e-06, 4e-06, 4.9999999999999996e-06, 6e-06, 7e-06, 8e-06, 9e-06, 2e-05, 3.0000000000000004e-05, 4e-05, 5e-05, 6.000000000000001e-05, 7.000000000000001e-05, 8e-05, 9e-05, 0.0002, 0.00030000000000000003, 0.0004, 0.0005, 0.0006000000000000001, 0.0007, 0.0008, 0.0009000000000000001, 0.002, 0.003, 0.004, 0.005, 0.006, 0.007, 0.008, 0.009000000000000001, 0.02, 0.03, 0.04, 0.05, 0.06, 0.07, 0.08, 0.09, 0.2, 0.30000000000000004, 0.4, 0.5, 0.6000000000000001, 0.7000000000000001, 0.8, 0.9, 2.0, 3.0, 4.0, 5.0, 6.0, 7.0, 8.0, 9.0, 20.0, 30.0, 40.0, 50.0, 60.0, 70.0, 80.0, 90.0, 200.0, 300.0, 400.0, 500.0, 600.0, 700.0, 800.0, 900.0]\n",
            "DEBUG:matplotlib.ticker:vmin 6.020323326870857e-06 vmax 3.6628308780392342\n",
            "DEBUG:matplotlib.ticker:ticklocs array([1.e-07, 1.e-06, 1.e-05, 1.e-04, 1.e-03, 1.e-02, 1.e-01, 1.e+00,\n",
            "       1.e+01, 1.e+02])\n",
            "DEBUG:matplotlib.ticker:vmin 6.020323326870857e-06 vmax 3.6628308780392342\n",
            "DEBUG:matplotlib.ticker:ticklocs [2e-07, 3e-07, 4e-07, 5e-07, 6e-07, 7e-07, 8e-07, 9e-07, 2e-06, 3e-06, 4e-06, 4.9999999999999996e-06, 6e-06, 7e-06, 8e-06, 9e-06, 2e-05, 3.0000000000000004e-05, 4e-05, 5e-05, 6.000000000000001e-05, 7.000000000000001e-05, 8e-05, 9e-05, 0.0002, 0.00030000000000000003, 0.0004, 0.0005, 0.0006000000000000001, 0.0007, 0.0008, 0.0009000000000000001, 0.002, 0.003, 0.004, 0.005, 0.006, 0.007, 0.008, 0.009000000000000001, 0.02, 0.03, 0.04, 0.05, 0.06, 0.07, 0.08, 0.09, 0.2, 0.30000000000000004, 0.4, 0.5, 0.6000000000000001, 0.7000000000000001, 0.8, 0.9, 2.0, 3.0, 4.0, 5.0, 6.0, 7.0, 8.0, 9.0, 20.0, 30.0, 40.0, 50.0, 60.0, 70.0, 80.0, 90.0, 200.0, 300.0, 400.0, 500.0, 600.0, 700.0, 800.0, 900.0]\n",
            "DEBUG:matplotlib.ticker:vmin 0.12602288265211165 vmax 1.5865340943829762\n",
            "DEBUG:matplotlib.ticker:ticklocs array([1.e-02, 1.e-01, 1.e+00, 1.e+01, 1.e+02])\n",
            "DEBUG:matplotlib.ticker:vmin 0.12602288265211165 vmax 1.5865340943829762\n",
            "DEBUG:matplotlib.ticker:ticklocs [0.02, 0.03, 0.04, 0.05, 0.06, 0.07, 0.08, 0.09, 0.2, 0.30000000000000004, 0.4, 0.5, 0.6000000000000001, 0.7000000000000001, 0.8, 0.9, 2.0, 3.0, 4.0, 5.0, 6.0, 7.0, 8.0, 9.0, 20.0, 30.0, 40.0, 50.0, 60.0, 70.0, 80.0, 90.0, 200.0, 300.0, 400.0, 500.0, 600.0, 700.0, 800.0, 900.0]\n",
            "DEBUG:matplotlib.ticker:vmin 0.12602288265211165 vmax 1.5865340943829762\n",
            "DEBUG:matplotlib.ticker:ticklocs array([1.e-02, 1.e-01, 1.e+00, 1.e+01, 1.e+02])\n",
            "DEBUG:matplotlib.ticker:vmin 0.12602288265211165 vmax 1.5865340943829762\n",
            "DEBUG:matplotlib.ticker:ticklocs [0.02, 0.03, 0.04, 0.05, 0.06, 0.07, 0.08, 0.09, 0.2, 0.30000000000000004, 0.4, 0.5, 0.6000000000000001, 0.7000000000000001, 0.8, 0.9, 2.0, 3.0, 4.0, 5.0, 6.0, 7.0, 8.0, 9.0, 20.0, 30.0, 40.0, 50.0, 60.0, 70.0, 80.0, 90.0, 200.0, 300.0, 400.0, 500.0, 600.0, 700.0, 800.0, 900.0]\n",
            "DEBUG:matplotlib.ticker:vmin 6.020323326870857e-06 vmax 3.6628308780392342\n",
            "DEBUG:matplotlib.ticker:ticklocs array([1.e-07, 1.e-06, 1.e-05, 1.e-04, 1.e-03, 1.e-02, 1.e-01, 1.e+00,\n",
            "       1.e+01, 1.e+02])\n",
            "DEBUG:matplotlib.ticker:vmin 6.020323326870857e-06 vmax 3.6628308780392342\n",
            "DEBUG:matplotlib.ticker:ticklocs [2e-07, 3e-07, 4e-07, 5e-07, 6e-07, 7e-07, 8e-07, 9e-07, 2e-06, 3e-06, 4e-06, 4.9999999999999996e-06, 6e-06, 7e-06, 8e-06, 9e-06, 2e-05, 3.0000000000000004e-05, 4e-05, 5e-05, 6.000000000000001e-05, 7.000000000000001e-05, 8e-05, 9e-05, 0.0002, 0.00030000000000000003, 0.0004, 0.0005, 0.0006000000000000001, 0.0007, 0.0008, 0.0009000000000000001, 0.002, 0.003, 0.004, 0.005, 0.006, 0.007, 0.008, 0.009000000000000001, 0.02, 0.03, 0.04, 0.05, 0.06, 0.07, 0.08, 0.09, 0.2, 0.30000000000000004, 0.4, 0.5, 0.6000000000000001, 0.7000000000000001, 0.8, 0.9, 2.0, 3.0, 4.0, 5.0, 6.0, 7.0, 8.0, 9.0, 20.0, 30.0, 40.0, 50.0, 60.0, 70.0, 80.0, 90.0, 200.0, 300.0, 400.0, 500.0, 600.0, 700.0, 800.0, 900.0]\n",
            "DEBUG:matplotlib.ticker:vmin 6.020323326870857e-06 vmax 3.6628308780392342\n",
            "DEBUG:matplotlib.ticker:ticklocs array([1.e-07, 1.e-06, 1.e-05, 1.e-04, 1.e-03, 1.e-02, 1.e-01, 1.e+00,\n",
            "       1.e+01, 1.e+02])\n",
            "DEBUG:matplotlib.ticker:vmin 6.020323326870857e-06 vmax 3.6628308780392342\n",
            "DEBUG:matplotlib.ticker:ticklocs [2e-07, 3e-07, 4e-07, 5e-07, 6e-07, 7e-07, 8e-07, 9e-07, 2e-06, 3e-06, 4e-06, 4.9999999999999996e-06, 6e-06, 7e-06, 8e-06, 9e-06, 2e-05, 3.0000000000000004e-05, 4e-05, 5e-05, 6.000000000000001e-05, 7.000000000000001e-05, 8e-05, 9e-05, 0.0002, 0.00030000000000000003, 0.0004, 0.0005, 0.0006000000000000001, 0.0007, 0.0008, 0.0009000000000000001, 0.002, 0.003, 0.004, 0.005, 0.006, 0.007, 0.008, 0.009000000000000001, 0.02, 0.03, 0.04, 0.05, 0.06, 0.07, 0.08, 0.09, 0.2, 0.30000000000000004, 0.4, 0.5, 0.6000000000000001, 0.7000000000000001, 0.8, 0.9, 2.0, 3.0, 4.0, 5.0, 6.0, 7.0, 8.0, 9.0, 20.0, 30.0, 40.0, 50.0, 60.0, 70.0, 80.0, 90.0, 200.0, 300.0, 400.0, 500.0, 600.0, 700.0, 800.0, 900.0]\n",
            "DEBUG:matplotlib.ticker:vmin 0.12602288265211165 vmax 1.5865340943829762\n",
            "DEBUG:matplotlib.ticker:ticklocs array([1.e-02, 1.e-01, 1.e+00, 1.e+01, 1.e+02])\n",
            "DEBUG:matplotlib.ticker:vmin 0.12602288265211165 vmax 1.5865340943829762\n",
            "DEBUG:matplotlib.ticker:ticklocs [0.02, 0.03, 0.04, 0.05, 0.06, 0.07, 0.08, 0.09, 0.2, 0.30000000000000004, 0.4, 0.5, 0.6000000000000001, 0.7000000000000001, 0.8, 0.9, 2.0, 3.0, 4.0, 5.0, 6.0, 7.0, 8.0, 9.0, 20.0, 30.0, 40.0, 50.0, 60.0, 70.0, 80.0, 90.0, 200.0, 300.0, 400.0, 500.0, 600.0, 700.0, 800.0, 900.0]\n",
            "DEBUG:matplotlib.ticker:vmin 0.12602288265211165 vmax 1.5865340943829762\n",
            "DEBUG:matplotlib.ticker:ticklocs array([1.e-02, 1.e-01, 1.e+00, 1.e+01, 1.e+02])\n",
            "DEBUG:matplotlib.ticker:vmin 0.12602288265211165 vmax 1.5865340943829762\n",
            "DEBUG:matplotlib.ticker:ticklocs [0.02, 0.03, 0.04, 0.05, 0.06, 0.07, 0.08, 0.09, 0.2, 0.30000000000000004, 0.4, 0.5, 0.6000000000000001, 0.7000000000000001, 0.8, 0.9, 2.0, 3.0, 4.0, 5.0, 6.0, 7.0, 8.0, 9.0, 20.0, 30.0, 40.0, 50.0, 60.0, 70.0, 80.0, 90.0, 200.0, 300.0, 400.0, 500.0, 600.0, 700.0, 800.0, 900.0]\n",
            "DEBUG:matplotlib.ticker:vmin 6.020323326870857e-06 vmax 3.6628308780392342\n",
            "DEBUG:matplotlib.ticker:ticklocs array([1.e-07, 1.e-06, 1.e-05, 1.e-04, 1.e-03, 1.e-02, 1.e-01, 1.e+00,\n",
            "       1.e+01, 1.e+02])\n",
            "DEBUG:matplotlib.ticker:vmin 6.020323326870857e-06 vmax 3.6628308780392342\n",
            "DEBUG:matplotlib.ticker:ticklocs [2e-07, 3e-07, 4e-07, 5e-07, 6e-07, 7e-07, 8e-07, 9e-07, 2e-06, 3e-06, 4e-06, 4.9999999999999996e-06, 6e-06, 7e-06, 8e-06, 9e-06, 2e-05, 3.0000000000000004e-05, 4e-05, 5e-05, 6.000000000000001e-05, 7.000000000000001e-05, 8e-05, 9e-05, 0.0002, 0.00030000000000000003, 0.0004, 0.0005, 0.0006000000000000001, 0.0007, 0.0008, 0.0009000000000000001, 0.002, 0.003, 0.004, 0.005, 0.006, 0.007, 0.008, 0.009000000000000001, 0.02, 0.03, 0.04, 0.05, 0.06, 0.07, 0.08, 0.09, 0.2, 0.30000000000000004, 0.4, 0.5, 0.6000000000000001, 0.7000000000000001, 0.8, 0.9, 2.0, 3.0, 4.0, 5.0, 6.0, 7.0, 8.0, 9.0, 20.0, 30.0, 40.0, 50.0, 60.0, 70.0, 80.0, 90.0, 200.0, 300.0, 400.0, 500.0, 600.0, 700.0, 800.0, 900.0]\n",
            "DEBUG:matplotlib.ticker:vmin 6.020323326870857e-06 vmax 3.6628308780392342\n",
            "DEBUG:matplotlib.ticker:ticklocs array([1.e-07, 1.e-06, 1.e-05, 1.e-04, 1.e-03, 1.e-02, 1.e-01, 1.e+00,\n",
            "       1.e+01, 1.e+02])\n",
            "DEBUG:matplotlib.ticker:vmin 6.020323326870857e-06 vmax 3.6628308780392342\n",
            "DEBUG:matplotlib.ticker:ticklocs [2e-07, 3e-07, 4e-07, 5e-07, 6e-07, 7e-07, 8e-07, 9e-07, 2e-06, 3e-06, 4e-06, 4.9999999999999996e-06, 6e-06, 7e-06, 8e-06, 9e-06, 2e-05, 3.0000000000000004e-05, 4e-05, 5e-05, 6.000000000000001e-05, 7.000000000000001e-05, 8e-05, 9e-05, 0.0002, 0.00030000000000000003, 0.0004, 0.0005, 0.0006000000000000001, 0.0007, 0.0008, 0.0009000000000000001, 0.002, 0.003, 0.004, 0.005, 0.006, 0.007, 0.008, 0.009000000000000001, 0.02, 0.03, 0.04, 0.05, 0.06, 0.07, 0.08, 0.09, 0.2, 0.30000000000000004, 0.4, 0.5, 0.6000000000000001, 0.7000000000000001, 0.8, 0.9, 2.0, 3.0, 4.0, 5.0, 6.0, 7.0, 8.0, 9.0, 20.0, 30.0, 40.0, 50.0, 60.0, 70.0, 80.0, 90.0, 200.0, 300.0, 400.0, 500.0, 600.0, 700.0, 800.0, 900.0]\n",
            "DEBUG:matplotlib.ticker:vmin 0.12602288265211165 vmax 1.5865340943829762\n",
            "DEBUG:matplotlib.ticker:ticklocs array([1.e-02, 1.e-01, 1.e+00, 1.e+01, 1.e+02])\n",
            "DEBUG:matplotlib.ticker:vmin 0.12602288265211165 vmax 1.5865340943829762\n",
            "DEBUG:matplotlib.ticker:ticklocs [0.02, 0.03, 0.04, 0.05, 0.06, 0.07, 0.08, 0.09, 0.2, 0.30000000000000004, 0.4, 0.5, 0.6000000000000001, 0.7000000000000001, 0.8, 0.9, 2.0, 3.0, 4.0, 5.0, 6.0, 7.0, 8.0, 9.0, 20.0, 30.0, 40.0, 50.0, 60.0, 70.0, 80.0, 90.0, 200.0, 300.0, 400.0, 500.0, 600.0, 700.0, 800.0, 900.0]\n",
            "DEBUG:matplotlib.ticker:vmin 0.12602288265211165 vmax 1.5865340943829762\n",
            "DEBUG:matplotlib.ticker:ticklocs array([1.e-02, 1.e-01, 1.e+00, 1.e+01, 1.e+02])\n",
            "DEBUG:matplotlib.ticker:vmin 0.12602288265211165 vmax 1.5865340943829762\n",
            "DEBUG:matplotlib.ticker:ticklocs [0.02, 0.03, 0.04, 0.05, 0.06, 0.07, 0.08, 0.09, 0.2, 0.30000000000000004, 0.4, 0.5, 0.6000000000000001, 0.7000000000000001, 0.8, 0.9, 2.0, 3.0, 4.0, 5.0, 6.0, 7.0, 8.0, 9.0, 20.0, 30.0, 40.0, 50.0, 60.0, 70.0, 80.0, 90.0, 200.0, 300.0, 400.0, 500.0, 600.0, 700.0, 800.0, 900.0]\n",
            "DEBUG:matplotlib.axes._base:update_title_pos\n",
            "DEBUG:matplotlib.ticker:vmin 6.020323326870857e-06 vmax 3.6628308780392342\n",
            "DEBUG:matplotlib.ticker:ticklocs array([1.e-07, 1.e-06, 1.e-05, 1.e-04, 1.e-03, 1.e-02, 1.e-01, 1.e+00,\n",
            "       1.e+01, 1.e+02])\n",
            "DEBUG:matplotlib.ticker:vmin 6.020323326870857e-06 vmax 3.6628308780392342\n",
            "DEBUG:matplotlib.ticker:ticklocs [2e-07, 3e-07, 4e-07, 5e-07, 6e-07, 7e-07, 8e-07, 9e-07, 2e-06, 3e-06, 4e-06, 4.9999999999999996e-06, 6e-06, 7e-06, 8e-06, 9e-06, 2e-05, 3.0000000000000004e-05, 4e-05, 5e-05, 6.000000000000001e-05, 7.000000000000001e-05, 8e-05, 9e-05, 0.0002, 0.00030000000000000003, 0.0004, 0.0005, 0.0006000000000000001, 0.0007, 0.0008, 0.0009000000000000001, 0.002, 0.003, 0.004, 0.005, 0.006, 0.007, 0.008, 0.009000000000000001, 0.02, 0.03, 0.04, 0.05, 0.06, 0.07, 0.08, 0.09, 0.2, 0.30000000000000004, 0.4, 0.5, 0.6000000000000001, 0.7000000000000001, 0.8, 0.9, 2.0, 3.0, 4.0, 5.0, 6.0, 7.0, 8.0, 9.0, 20.0, 30.0, 40.0, 50.0, 60.0, 70.0, 80.0, 90.0, 200.0, 300.0, 400.0, 500.0, 600.0, 700.0, 800.0, 900.0]\n",
            "DEBUG:matplotlib.ticker:vmin 6.020323326870857e-06 vmax 3.6628308780392342\n",
            "DEBUG:matplotlib.ticker:ticklocs array([1.e-07, 1.e-06, 1.e-05, 1.e-04, 1.e-03, 1.e-02, 1.e-01, 1.e+00,\n",
            "       1.e+01, 1.e+02])\n",
            "DEBUG:matplotlib.ticker:vmin 6.020323326870857e-06 vmax 3.6628308780392342\n",
            "DEBUG:matplotlib.ticker:ticklocs [2e-07, 3e-07, 4e-07, 5e-07, 6e-07, 7e-07, 8e-07, 9e-07, 2e-06, 3e-06, 4e-06, 4.9999999999999996e-06, 6e-06, 7e-06, 8e-06, 9e-06, 2e-05, 3.0000000000000004e-05, 4e-05, 5e-05, 6.000000000000001e-05, 7.000000000000001e-05, 8e-05, 9e-05, 0.0002, 0.00030000000000000003, 0.0004, 0.0005, 0.0006000000000000001, 0.0007, 0.0008, 0.0009000000000000001, 0.002, 0.003, 0.004, 0.005, 0.006, 0.007, 0.008, 0.009000000000000001, 0.02, 0.03, 0.04, 0.05, 0.06, 0.07, 0.08, 0.09, 0.2, 0.30000000000000004, 0.4, 0.5, 0.6000000000000001, 0.7000000000000001, 0.8, 0.9, 2.0, 3.0, 4.0, 5.0, 6.0, 7.0, 8.0, 9.0, 20.0, 30.0, 40.0, 50.0, 60.0, 70.0, 80.0, 90.0, 200.0, 300.0, 400.0, 500.0, 600.0, 700.0, 800.0, 900.0]\n",
            "DEBUG:matplotlib.ticker:vmin 0.12602288265211165 vmax 1.5865340943829762\n",
            "DEBUG:matplotlib.ticker:ticklocs array([1.e-02, 1.e-01, 1.e+00, 1.e+01, 1.e+02])\n",
            "DEBUG:matplotlib.ticker:vmin 0.12602288265211165 vmax 1.5865340943829762\n",
            "DEBUG:matplotlib.ticker:ticklocs [0.02, 0.03, 0.04, 0.05, 0.06, 0.07, 0.08, 0.09, 0.2, 0.30000000000000004, 0.4, 0.5, 0.6000000000000001, 0.7000000000000001, 0.8, 0.9, 2.0, 3.0, 4.0, 5.0, 6.0, 7.0, 8.0, 9.0, 20.0, 30.0, 40.0, 50.0, 60.0, 70.0, 80.0, 90.0, 200.0, 300.0, 400.0, 500.0, 600.0, 700.0, 800.0, 900.0]\n",
            "DEBUG:matplotlib.ticker:vmin 0.12602288265211165 vmax 1.5865340943829762\n",
            "DEBUG:matplotlib.ticker:ticklocs array([1.e-02, 1.e-01, 1.e+00, 1.e+01, 1.e+02])\n",
            "DEBUG:matplotlib.ticker:vmin 0.12602288265211165 vmax 1.5865340943829762\n",
            "DEBUG:matplotlib.ticker:ticklocs [0.02, 0.03, 0.04, 0.05, 0.06, 0.07, 0.08, 0.09, 0.2, 0.30000000000000004, 0.4, 0.5, 0.6000000000000001, 0.7000000000000001, 0.8, 0.9, 2.0, 3.0, 4.0, 5.0, 6.0, 7.0, 8.0, 9.0, 20.0, 30.0, 40.0, 50.0, 60.0, 70.0, 80.0, 90.0, 200.0, 300.0, 400.0, 500.0, 600.0, 700.0, 800.0, 900.0]\n",
            "DEBUG:matplotlib.ticker:vmin 6.020323326870857e-06 vmax 3.6628308780392342\n",
            "DEBUG:matplotlib.ticker:ticklocs array([1.e-07, 1.e-06, 1.e-05, 1.e-04, 1.e-03, 1.e-02, 1.e-01, 1.e+00,\n",
            "       1.e+01, 1.e+02])\n",
            "DEBUG:matplotlib.ticker:vmin 6.020323326870857e-06 vmax 3.6628308780392342\n",
            "DEBUG:matplotlib.ticker:ticklocs [2e-07, 3e-07, 4e-07, 5e-07, 6e-07, 7e-07, 8e-07, 9e-07, 2e-06, 3e-06, 4e-06, 4.9999999999999996e-06, 6e-06, 7e-06, 8e-06, 9e-06, 2e-05, 3.0000000000000004e-05, 4e-05, 5e-05, 6.000000000000001e-05, 7.000000000000001e-05, 8e-05, 9e-05, 0.0002, 0.00030000000000000003, 0.0004, 0.0005, 0.0006000000000000001, 0.0007, 0.0008, 0.0009000000000000001, 0.002, 0.003, 0.004, 0.005, 0.006, 0.007, 0.008, 0.009000000000000001, 0.02, 0.03, 0.04, 0.05, 0.06, 0.07, 0.08, 0.09, 0.2, 0.30000000000000004, 0.4, 0.5, 0.6000000000000001, 0.7000000000000001, 0.8, 0.9, 2.0, 3.0, 4.0, 5.0, 6.0, 7.0, 8.0, 9.0, 20.0, 30.0, 40.0, 50.0, 60.0, 70.0, 80.0, 90.0, 200.0, 300.0, 400.0, 500.0, 600.0, 700.0, 800.0, 900.0]\n",
            "DEBUG:matplotlib.ticker:vmin 6.020323326870857e-06 vmax 3.6628308780392342\n",
            "DEBUG:matplotlib.ticker:ticklocs array([1.e-07, 1.e-06, 1.e-05, 1.e-04, 1.e-03, 1.e-02, 1.e-01, 1.e+00,\n",
            "       1.e+01, 1.e+02])\n",
            "DEBUG:matplotlib.ticker:vmin 6.020323326870857e-06 vmax 3.6628308780392342\n",
            "DEBUG:matplotlib.ticker:ticklocs [2e-07, 3e-07, 4e-07, 5e-07, 6e-07, 7e-07, 8e-07, 9e-07, 2e-06, 3e-06, 4e-06, 4.9999999999999996e-06, 6e-06, 7e-06, 8e-06, 9e-06, 2e-05, 3.0000000000000004e-05, 4e-05, 5e-05, 6.000000000000001e-05, 7.000000000000001e-05, 8e-05, 9e-05, 0.0002, 0.00030000000000000003, 0.0004, 0.0005, 0.0006000000000000001, 0.0007, 0.0008, 0.0009000000000000001, 0.002, 0.003, 0.004, 0.005, 0.006, 0.007, 0.008, 0.009000000000000001, 0.02, 0.03, 0.04, 0.05, 0.06, 0.07, 0.08, 0.09, 0.2, 0.30000000000000004, 0.4, 0.5, 0.6000000000000001, 0.7000000000000001, 0.8, 0.9, 2.0, 3.0, 4.0, 5.0, 6.0, 7.0, 8.0, 9.0, 20.0, 30.0, 40.0, 50.0, 60.0, 70.0, 80.0, 90.0, 200.0, 300.0, 400.0, 500.0, 600.0, 700.0, 800.0, 900.0]\n",
            "DEBUG:matplotlib.axes._base:update_title_pos\n",
            "DEBUG:matplotlib.ticker:vmin 0.12602288265211165 vmax 1.5865340943829762\n",
            "DEBUG:matplotlib.ticker:ticklocs array([1.e-02, 1.e-01, 1.e+00, 1.e+01, 1.e+02])\n",
            "DEBUG:matplotlib.ticker:vmin 0.12602288265211165 vmax 1.5865340943829762\n",
            "DEBUG:matplotlib.ticker:ticklocs [0.02, 0.03, 0.04, 0.05, 0.06, 0.07, 0.08, 0.09, 0.2, 0.30000000000000004, 0.4, 0.5, 0.6000000000000001, 0.7000000000000001, 0.8, 0.9, 2.0, 3.0, 4.0, 5.0, 6.0, 7.0, 8.0, 9.0, 20.0, 30.0, 40.0, 50.0, 60.0, 70.0, 80.0, 90.0, 200.0, 300.0, 400.0, 500.0, 600.0, 700.0, 800.0, 900.0]\n",
            "DEBUG:matplotlib.ticker:vmin 0.12602288265211165 vmax 1.5865340943829762\n",
            "DEBUG:matplotlib.ticker:ticklocs array([1.e-02, 1.e-01, 1.e+00, 1.e+01, 1.e+02])\n",
            "DEBUG:matplotlib.ticker:vmin 0.12602288265211165 vmax 1.5865340943829762\n",
            "DEBUG:matplotlib.ticker:ticklocs [0.02, 0.03, 0.04, 0.05, 0.06, 0.07, 0.08, 0.09, 0.2, 0.30000000000000004, 0.4, 0.5, 0.6000000000000001, 0.7000000000000001, 0.8, 0.9, 2.0, 3.0, 4.0, 5.0, 6.0, 7.0, 8.0, 9.0, 20.0, 30.0, 40.0, 50.0, 60.0, 70.0, 80.0, 90.0, 200.0, 300.0, 400.0, 500.0, 600.0, 700.0, 800.0, 900.0]\n",
            "DEBUG:matplotlib.ticker:vmin 6.020323326870857e-06 vmax 3.6628308780392342\n",
            "DEBUG:matplotlib.ticker:ticklocs array([1.e-07, 1.e-06, 1.e-05, 1.e-04, 1.e-03, 1.e-02, 1.e-01, 1.e+00,\n",
            "       1.e+01, 1.e+02])\n",
            "DEBUG:matplotlib.ticker:vmin 6.020323326870857e-06 vmax 3.6628308780392342\n",
            "DEBUG:matplotlib.ticker:ticklocs [2e-07, 3e-07, 4e-07, 5e-07, 6e-07, 7e-07, 8e-07, 9e-07, 2e-06, 3e-06, 4e-06, 4.9999999999999996e-06, 6e-06, 7e-06, 8e-06, 9e-06, 2e-05, 3.0000000000000004e-05, 4e-05, 5e-05, 6.000000000000001e-05, 7.000000000000001e-05, 8e-05, 9e-05, 0.0002, 0.00030000000000000003, 0.0004, 0.0005, 0.0006000000000000001, 0.0007, 0.0008, 0.0009000000000000001, 0.002, 0.003, 0.004, 0.005, 0.006, 0.007, 0.008, 0.009000000000000001, 0.02, 0.03, 0.04, 0.05, 0.06, 0.07, 0.08, 0.09, 0.2, 0.30000000000000004, 0.4, 0.5, 0.6000000000000001, 0.7000000000000001, 0.8, 0.9, 2.0, 3.0, 4.0, 5.0, 6.0, 7.0, 8.0, 9.0, 20.0, 30.0, 40.0, 50.0, 60.0, 70.0, 80.0, 90.0, 200.0, 300.0, 400.0, 500.0, 600.0, 700.0, 800.0, 900.0]\n",
            "DEBUG:matplotlib.ticker:vmin 6.020323326870857e-06 vmax 3.6628308780392342\n",
            "DEBUG:matplotlib.ticker:ticklocs array([1.e-07, 1.e-06, 1.e-05, 1.e-04, 1.e-03, 1.e-02, 1.e-01, 1.e+00,\n",
            "       1.e+01, 1.e+02])\n",
            "DEBUG:matplotlib.ticker:vmin 6.020323326870857e-06 vmax 3.6628308780392342\n",
            "DEBUG:matplotlib.ticker:ticklocs [2e-07, 3e-07, 4e-07, 5e-07, 6e-07, 7e-07, 8e-07, 9e-07, 2e-06, 3e-06, 4e-06, 4.9999999999999996e-06, 6e-06, 7e-06, 8e-06, 9e-06, 2e-05, 3.0000000000000004e-05, 4e-05, 5e-05, 6.000000000000001e-05, 7.000000000000001e-05, 8e-05, 9e-05, 0.0002, 0.00030000000000000003, 0.0004, 0.0005, 0.0006000000000000001, 0.0007, 0.0008, 0.0009000000000000001, 0.002, 0.003, 0.004, 0.005, 0.006, 0.007, 0.008, 0.009000000000000001, 0.02, 0.03, 0.04, 0.05, 0.06, 0.07, 0.08, 0.09, 0.2, 0.30000000000000004, 0.4, 0.5, 0.6000000000000001, 0.7000000000000001, 0.8, 0.9, 2.0, 3.0, 4.0, 5.0, 6.0, 7.0, 8.0, 9.0, 20.0, 30.0, 40.0, 50.0, 60.0, 70.0, 80.0, 90.0, 200.0, 300.0, 400.0, 500.0, 600.0, 700.0, 800.0, 900.0]\n"
          ],
          "name": "stderr"
        },
        {
          "output_type": "display_data",
          "data": {
            "image/png": "[encoded data removed]",
            "text/plain": [
              "<Figure size 432x288 with 1 Axes>"
            ]
          },
          "metadata": {
            "tags": []
          }
        }
      ]
    }
  ]
}